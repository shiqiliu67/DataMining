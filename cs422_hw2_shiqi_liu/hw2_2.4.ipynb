{
 "cells": [
  {
   "cell_type": "code",
   "execution_count": 123,
   "metadata": {},
   "outputs": [
    {
     "data": {
      "text/html": [
       "<div>\n",
       "<style scoped>\n",
       "    .dataframe tbody tr th:only-of-type {\n",
       "        vertical-align: middle;\n",
       "    }\n",
       "\n",
       "    .dataframe tbody tr th {\n",
       "        vertical-align: top;\n",
       "    }\n",
       "\n",
       "    .dataframe thead th {\n",
       "        text-align: right;\n",
       "    }\n",
       "</style>\n",
       "<table border=\"1\" class=\"dataframe\">\n",
       "  <thead>\n",
       "    <tr style=\"text-align: right;\">\n",
       "      <th></th>\n",
       "      <th>x1</th>\n",
       "      <th>c</th>\n",
       "    </tr>\n",
       "  </thead>\n",
       "  <tbody>\n",
       "    <tr>\n",
       "      <td>0</td>\n",
       "      <td>5.998139</td>\n",
       "      <td>c1</td>\n",
       "    </tr>\n",
       "    <tr>\n",
       "      <td>1</td>\n",
       "      <td>3.873382</td>\n",
       "      <td>c1</td>\n",
       "    </tr>\n",
       "    <tr>\n",
       "      <td>2</td>\n",
       "      <td>1.497831</td>\n",
       "      <td>c1</td>\n",
       "    </tr>\n",
       "    <tr>\n",
       "      <td>3</td>\n",
       "      <td>6.611403</td>\n",
       "      <td>c1</td>\n",
       "    </tr>\n",
       "    <tr>\n",
       "      <td>4</td>\n",
       "      <td>6.303691</td>\n",
       "      <td>c1</td>\n",
       "    </tr>\n",
       "  </tbody>\n",
       "</table>\n",
       "</div>"
      ],
      "text/plain": [
       "         x1   c\n",
       "0  5.998139  c1\n",
       "1  3.873382  c1\n",
       "2  1.497831  c1\n",
       "3  6.611403  c1\n",
       "4  6.303691  c1"
      ]
     },
     "execution_count": 123,
     "metadata": {},
     "output_type": "execute_result"
    }
   ],
   "source": [
    "import numpy as np\n",
    "import pandas as pd\n",
    "import graphviz\n",
    "from sklearn import tree\n",
    "from sklearn import model_selection\n",
    "from sklearn.model_selection import train_test_split\n",
    "#setting up random mean and deviation\n",
    "N1=1000\n",
    "u1=5\n",
    "s1=2\n",
    "x1=np.random.normal(u1,s1,N1)\n",
    "c1=np.repeat('c1',N1)\n",
    "df1=df1 = pd.DataFrame(dict(zip(['x1','c'],[x1,c1])))\n",
    "df1.head()\n"
   ]
  },
  {
   "cell_type": "code",
   "execution_count": 124,
   "metadata": {},
   "outputs": [
    {
     "data": {
      "text/html": [
       "<div>\n",
       "<style scoped>\n",
       "    .dataframe tbody tr th:only-of-type {\n",
       "        vertical-align: middle;\n",
       "    }\n",
       "\n",
       "    .dataframe tbody tr th {\n",
       "        vertical-align: top;\n",
       "    }\n",
       "\n",
       "    .dataframe thead th {\n",
       "        text-align: right;\n",
       "    }\n",
       "</style>\n",
       "<table border=\"1\" class=\"dataframe\">\n",
       "  <thead>\n",
       "    <tr style=\"text-align: right;\">\n",
       "      <th></th>\n",
       "      <th>x2</th>\n",
       "      <th>c</th>\n",
       "    </tr>\n",
       "  </thead>\n",
       "  <tbody>\n",
       "    <tr>\n",
       "      <td>0</td>\n",
       "      <td>-4.518386</td>\n",
       "      <td>c1</td>\n",
       "    </tr>\n",
       "    <tr>\n",
       "      <td>1</td>\n",
       "      <td>-4.291230</td>\n",
       "      <td>c1</td>\n",
       "    </tr>\n",
       "    <tr>\n",
       "      <td>2</td>\n",
       "      <td>-6.103960</td>\n",
       "      <td>c1</td>\n",
       "    </tr>\n",
       "    <tr>\n",
       "      <td>3</td>\n",
       "      <td>-4.897366</td>\n",
       "      <td>c1</td>\n",
       "    </tr>\n",
       "    <tr>\n",
       "      <td>4</td>\n",
       "      <td>-4.913294</td>\n",
       "      <td>c1</td>\n",
       "    </tr>\n",
       "  </tbody>\n",
       "</table>\n",
       "</div>"
      ],
      "text/plain": [
       "         x2   c\n",
       "0 -4.518386  c1\n",
       "1 -4.291230  c1\n",
       "2 -6.103960  c1\n",
       "3 -4.897366  c1\n",
       "4 -4.913294  c1"
      ]
     },
     "execution_count": 124,
     "metadata": {},
     "output_type": "execute_result"
    }
   ],
   "source": [
    "#settig up random mean and deviation\n",
    "N2=1000\n",
    "u2=-5\n",
    "s2=2\n",
    "\n",
    "\n",
    "x2=np.random.normal(u2,s2,N2)\n",
    "#c2=np.repeat('c2',N2)\n",
    "#df2 = pd.DataFrame(dict(zip(['x2','c2'],[x2,c2])))\n",
    "df2 = pd.DataFrame(dict(zip(['x2','c'],[x2,c1])))\n",
    "df2.head()"
   ]
  },
  {
   "cell_type": "code",
   "execution_count": 125,
   "metadata": {},
   "outputs": [],
   "source": [
    "#Add x2 from df2 to df1\n",
    "df1['x2']=df2['x2']"
   ]
  },
  {
   "cell_type": "code",
   "execution_count": 126,
   "metadata": {},
   "outputs": [
    {
     "data": {
      "text/html": [
       "<div>\n",
       "<style scoped>\n",
       "    .dataframe tbody tr th:only-of-type {\n",
       "        vertical-align: middle;\n",
       "    }\n",
       "\n",
       "    .dataframe tbody tr th {\n",
       "        vertical-align: top;\n",
       "    }\n",
       "\n",
       "    .dataframe thead th {\n",
       "        text-align: right;\n",
       "    }\n",
       "</style>\n",
       "<table border=\"1\" class=\"dataframe\">\n",
       "  <thead>\n",
       "    <tr style=\"text-align: right;\">\n",
       "      <th></th>\n",
       "      <th>x1</th>\n",
       "      <th>x2</th>\n",
       "    </tr>\n",
       "  </thead>\n",
       "  <tbody>\n",
       "    <tr>\n",
       "      <td>0</td>\n",
       "      <td>5.998139</td>\n",
       "      <td>-4.518386</td>\n",
       "    </tr>\n",
       "    <tr>\n",
       "      <td>1</td>\n",
       "      <td>3.873382</td>\n",
       "      <td>-4.291230</td>\n",
       "    </tr>\n",
       "    <tr>\n",
       "      <td>2</td>\n",
       "      <td>1.497831</td>\n",
       "      <td>-6.103960</td>\n",
       "    </tr>\n",
       "    <tr>\n",
       "      <td>3</td>\n",
       "      <td>6.611403</td>\n",
       "      <td>-4.897366</td>\n",
       "    </tr>\n",
       "    <tr>\n",
       "      <td>4</td>\n",
       "      <td>6.303691</td>\n",
       "      <td>-4.913294</td>\n",
       "    </tr>\n",
       "    <tr>\n",
       "      <td>...</td>\n",
       "      <td>...</td>\n",
       "      <td>...</td>\n",
       "    </tr>\n",
       "    <tr>\n",
       "      <td>995</td>\n",
       "      <td>2.363515</td>\n",
       "      <td>-7.205274</td>\n",
       "    </tr>\n",
       "    <tr>\n",
       "      <td>996</td>\n",
       "      <td>4.172268</td>\n",
       "      <td>-2.054354</td>\n",
       "    </tr>\n",
       "    <tr>\n",
       "      <td>997</td>\n",
       "      <td>4.214760</td>\n",
       "      <td>-4.545241</td>\n",
       "    </tr>\n",
       "    <tr>\n",
       "      <td>998</td>\n",
       "      <td>7.021747</td>\n",
       "      <td>-7.532389</td>\n",
       "    </tr>\n",
       "    <tr>\n",
       "      <td>999</td>\n",
       "      <td>10.899816</td>\n",
       "      <td>-1.186182</td>\n",
       "    </tr>\n",
       "  </tbody>\n",
       "</table>\n",
       "<p>1000 rows × 2 columns</p>\n",
       "</div>"
      ],
      "text/plain": [
       "            x1        x2\n",
       "0     5.998139 -4.518386\n",
       "1     3.873382 -4.291230\n",
       "2     1.497831 -6.103960\n",
       "3     6.611403 -4.897366\n",
       "4     6.303691 -4.913294\n",
       "..         ...       ...\n",
       "995   2.363515 -7.205274\n",
       "996   4.172268 -2.054354\n",
       "997   4.214760 -4.545241\n",
       "998   7.021747 -7.532389\n",
       "999  10.899816 -1.186182\n",
       "\n",
       "[1000 rows x 2 columns]"
      ]
     },
     "execution_count": 126,
     "metadata": {},
     "output_type": "execute_result"
    }
   ],
   "source": [
    "\n",
    "#Drop the 'c' column\n",
    "df1 = df1.drop(columns=['c'])\n",
    "df1"
   ]
  },
  {
   "cell_type": "code",
   "execution_count": 127,
   "metadata": {},
   "outputs": [
    {
     "data": {
      "text/html": [
       "<div>\n",
       "<style scoped>\n",
       "    .dataframe tbody tr th:only-of-type {\n",
       "        vertical-align: middle;\n",
       "    }\n",
       "\n",
       "    .dataframe tbody tr th {\n",
       "        vertical-align: top;\n",
       "    }\n",
       "\n",
       "    .dataframe thead th {\n",
       "        text-align: right;\n",
       "    }\n",
       "</style>\n",
       "<table border=\"1\" class=\"dataframe\">\n",
       "  <thead>\n",
       "    <tr style=\"text-align: right;\">\n",
       "      <th></th>\n",
       "      <th>x1</th>\n",
       "      <th>x2</th>\n",
       "      <th>Label</th>\n",
       "    </tr>\n",
       "  </thead>\n",
       "  <tbody>\n",
       "    <tr>\n",
       "      <td>0</td>\n",
       "      <td>5.998139</td>\n",
       "      <td>-4.518386</td>\n",
       "      <td>0</td>\n",
       "    </tr>\n",
       "    <tr>\n",
       "      <td>1</td>\n",
       "      <td>3.873382</td>\n",
       "      <td>-4.291230</td>\n",
       "      <td>1</td>\n",
       "    </tr>\n",
       "    <tr>\n",
       "      <td>2</td>\n",
       "      <td>1.497831</td>\n",
       "      <td>-6.103960</td>\n",
       "      <td>0</td>\n",
       "    </tr>\n",
       "    <tr>\n",
       "      <td>3</td>\n",
       "      <td>6.611403</td>\n",
       "      <td>-4.897366</td>\n",
       "      <td>1</td>\n",
       "    </tr>\n",
       "    <tr>\n",
       "      <td>4</td>\n",
       "      <td>6.303691</td>\n",
       "      <td>-4.913294</td>\n",
       "      <td>0</td>\n",
       "    </tr>\n",
       "    <tr>\n",
       "      <td>...</td>\n",
       "      <td>...</td>\n",
       "      <td>...</td>\n",
       "      <td>...</td>\n",
       "    </tr>\n",
       "    <tr>\n",
       "      <td>995</td>\n",
       "      <td>2.363515</td>\n",
       "      <td>-7.205274</td>\n",
       "      <td>1</td>\n",
       "    </tr>\n",
       "    <tr>\n",
       "      <td>996</td>\n",
       "      <td>4.172268</td>\n",
       "      <td>-2.054354</td>\n",
       "      <td>1</td>\n",
       "    </tr>\n",
       "    <tr>\n",
       "      <td>997</td>\n",
       "      <td>4.214760</td>\n",
       "      <td>-4.545241</td>\n",
       "      <td>0</td>\n",
       "    </tr>\n",
       "    <tr>\n",
       "      <td>998</td>\n",
       "      <td>7.021747</td>\n",
       "      <td>-7.532389</td>\n",
       "      <td>0</td>\n",
       "    </tr>\n",
       "    <tr>\n",
       "      <td>999</td>\n",
       "      <td>10.899816</td>\n",
       "      <td>-1.186182</td>\n",
       "      <td>1</td>\n",
       "    </tr>\n",
       "  </tbody>\n",
       "</table>\n",
       "<p>1000 rows × 3 columns</p>\n",
       "</div>"
      ],
      "text/plain": [
       "            x1        x2  Label\n",
       "0     5.998139 -4.518386      0\n",
       "1     3.873382 -4.291230      1\n",
       "2     1.497831 -6.103960      0\n",
       "3     6.611403 -4.897366      1\n",
       "4     6.303691 -4.913294      0\n",
       "..         ...       ...    ...\n",
       "995   2.363515 -7.205274      1\n",
       "996   4.172268 -2.054354      1\n",
       "997   4.214760 -4.545241      0\n",
       "998   7.021747 -7.532389      0\n",
       "999  10.899816 -1.186182      1\n",
       "\n",
       "[1000 rows x 3 columns]"
      ]
     },
     "execution_count": 127,
     "metadata": {},
     "output_type": "execute_result"
    }
   ],
   "source": [
    "#Generate a random label of 0 and 1\n",
    "import random\n",
    "randomLabel = []\n",
    "for i in range(0,1000):\n",
    "    n = random.randint(0, 1)\n",
    "    randomLabel.append(n)\n",
    "\n",
    "#Add that label to df1\n",
    "df1['Label'] = randomLabel\n",
    "df1"
   ]
  },
  {
   "cell_type": "code",
   "execution_count": 128,
   "metadata": {},
   "outputs": [
    {
     "data": {
      "text/html": [
       "<div>\n",
       "<style scoped>\n",
       "    .dataframe tbody tr th:only-of-type {\n",
       "        vertical-align: middle;\n",
       "    }\n",
       "\n",
       "    .dataframe tbody tr th {\n",
       "        vertical-align: top;\n",
       "    }\n",
       "\n",
       "    .dataframe thead th {\n",
       "        text-align: right;\n",
       "    }\n",
       "</style>\n",
       "<table border=\"1\" class=\"dataframe\">\n",
       "  <thead>\n",
       "    <tr style=\"text-align: right;\">\n",
       "      <th></th>\n",
       "      <th>x1</th>\n",
       "      <th>x2</th>\n",
       "      <th>Label</th>\n",
       "    </tr>\n",
       "  </thead>\n",
       "  <tbody>\n",
       "    <tr>\n",
       "      <td>count</td>\n",
       "      <td>1000.000000</td>\n",
       "      <td>1000.000000</td>\n",
       "      <td>1000.000000</td>\n",
       "    </tr>\n",
       "    <tr>\n",
       "      <td>mean</td>\n",
       "      <td>5.011384</td>\n",
       "      <td>-5.035538</td>\n",
       "      <td>0.467000</td>\n",
       "    </tr>\n",
       "    <tr>\n",
       "      <td>std</td>\n",
       "      <td>1.990079</td>\n",
       "      <td>2.038471</td>\n",
       "      <td>0.499159</td>\n",
       "    </tr>\n",
       "    <tr>\n",
       "      <td>min</td>\n",
       "      <td>-2.821523</td>\n",
       "      <td>-11.762593</td>\n",
       "      <td>0.000000</td>\n",
       "    </tr>\n",
       "    <tr>\n",
       "      <td>25%</td>\n",
       "      <td>3.652863</td>\n",
       "      <td>-6.389372</td>\n",
       "      <td>0.000000</td>\n",
       "    </tr>\n",
       "    <tr>\n",
       "      <td>50%</td>\n",
       "      <td>4.918598</td>\n",
       "      <td>-5.019275</td>\n",
       "      <td>0.000000</td>\n",
       "    </tr>\n",
       "    <tr>\n",
       "      <td>75%</td>\n",
       "      <td>6.337419</td>\n",
       "      <td>-3.672967</td>\n",
       "      <td>1.000000</td>\n",
       "    </tr>\n",
       "    <tr>\n",
       "      <td>max</td>\n",
       "      <td>10.899816</td>\n",
       "      <td>1.289223</td>\n",
       "      <td>1.000000</td>\n",
       "    </tr>\n",
       "  </tbody>\n",
       "</table>\n",
       "</div>"
      ],
      "text/plain": [
       "                x1           x2        Label\n",
       "count  1000.000000  1000.000000  1000.000000\n",
       "mean      5.011384    -5.035538     0.467000\n",
       "std       1.990079     2.038471     0.499159\n",
       "min      -2.821523   -11.762593     0.000000\n",
       "25%       3.652863    -6.389372     0.000000\n",
       "50%       4.918598    -5.019275     0.000000\n",
       "75%       6.337419    -3.672967     1.000000\n",
       "max      10.899816     1.289223     1.000000"
      ]
     },
     "execution_count": 128,
     "metadata": {},
     "output_type": "execute_result"
    }
   ],
   "source": [
    "\n",
    "df1.describe()\n"
   ]
  },
  {
   "cell_type": "code",
   "execution_count": 129,
   "metadata": {},
   "outputs": [
    {
     "name": "stdout",
     "output_type": "stream",
     "text": [
      "(800, 2) (800,)\n",
      "(200, 2) (200,)\n"
     ]
    }
   ],
   "source": [
    "#Set-up data as samples and features\n",
    "X = df1.drop('Label', axis = 1)\n",
    "y = df1['Label']\n",
    "\n",
    "#Using the train_test_split function to make a split\n",
    "X_train, X_test, y_train, y_test = model_selection.train_test_split(X, y, test_size=0.2)\n",
    "\n",
    "#For self, total = 569. X_train = 455/569 = 0.8 & X_test = 114/569 = 0.2\n",
    "print(X_train.shape, y_train.shape)\n",
    "print(X_test.shape, y_test.shape)"
   ]
  },
  {
   "cell_type": "code",
   "execution_count": 130,
   "metadata": {},
   "outputs": [
    {
     "data": {
      "text/plain": [
       "[Text(133.92000000000002, 181.2, 'X[1] <= -9.756\\ngini = 0.497\\nsamples = 800\\nvalue = [433, 367]'),\n",
       " Text(66.96000000000001, 108.72, 'gini = 0.0\\nsamples = 7\\nvalue = [7, 0]'),\n",
       " Text(200.88000000000002, 108.72, 'X[0] <= 9.796\\ngini = 0.497\\nsamples = 793\\nvalue = [426, 367]'),\n",
       " Text(133.92000000000002, 36.23999999999998, 'gini = 0.497\\nsamples = 783\\nvalue = [424, 359]'),\n",
       " Text(267.84000000000003, 36.23999999999998, 'gini = 0.32\\nsamples = 10\\nvalue = [2, 8]')]"
      ]
     },
     "execution_count": 130,
     "metadata": {},
     "output_type": "execute_result"
    },
    {
     "data": {
      "image/png": "[encoded data removed]",
      "text/plain": [
       "<Figure size 432x288 with 1 Axes>"
      ]
     },
     "metadata": {
      "needs_background": "light"
     },
     "output_type": "display_data"
    }
   ],
   "source": [
    "#Defining and fitting a decision tree instance\n",
    "classifier = tree.DecisionTreeClassifier(max_depth=2)\n",
    "classifier = classifier.fit(X_train, y_train)\n",
    "\n",
    "#Setting up expectations and prediction\n",
    "expected = y_test\n",
    "predicted = classifier.predict(X_test)\n",
    "\n",
    "#Show a visual representation of the tree\n",
    "tree.plot_tree(classifier)\n"
   ]
  },
  {
   "cell_type": "code",
   "execution_count": 131,
   "metadata": {},
   "outputs": [
    {
     "data": {
      "text/plain": [
       "0.010000000000000002"
      ]
     },
     "execution_count": 131,
     "metadata": {},
     "output_type": "execute_result"
    }
   ],
   "source": [
    "#Calculate the empirical distribution\n",
    "from statsmodels.distributions.empirical_distribution import ECDF\n",
    "ecdf = ECDF(x2)\n",
    "ecdf(-9.756)"
   ]
  },
  {
   "cell_type": "markdown",
   "metadata": {},
   "source": [
    "The empirical distribution for the above decision tree is 1.0%. \n",
    "\n",
    "The threshold above split in a manner that 793/800 of the samples split to the right and 7 to the left. it is less than 10% split to the left. \n",
    "\n",
    "This follows similar to the empirical distribution."
   ]
  },
  {
   "cell_type": "markdown",
   "metadata": {},
   "source": [
    "# Following code are useless. i just want to verifty in another way. (but not successed)"
   ]
  },
  {
   "cell_type": "code",
   "execution_count": null,
   "metadata": {},
   "outputs": [],
   "source": []
  },
  {
   "cell_type": "code",
   "execution_count": 12,
   "metadata": {},
   "outputs": [
    {
     "name": "stdout",
     "output_type": "stream",
     "text": [
      "[0. 0. 0. 0. 0. 1. 1. 1. 1. 1.]\n",
      "[0. 1. 1. 0. 1. 0. 1. 0. 0. 1.]\n"
     ]
    },
    {
     "data": {
      "text/plain": [
       "array([0., 1., 1., 0., 1., 0., 1., 0., 0., 1.])"
      ]
     },
     "execution_count": 12,
     "metadata": {},
     "output_type": "execute_result"
    }
   ],
   "source": [
    "import numpy as np\n",
    "import random\n",
    "random.seed(2342)\n",
    "a = np.random.randn(10,1)\n",
    "b = np.random.randn(10,1)\n",
    "c = np.hstack((a,b))\n",
    "label = np.vstack((np.zeros(5) , np.ones(5))).flatten()\n",
    "print (label)\n",
    "random.shuffle(label) \n",
    "print (label)\n",
    "\n",
    "\n",
    "from sklearn.tree import DecisionTreeClassifier\n",
    "\n",
    "clf=DecisionTreeClassifier(max_depth=5)\n",
    "clf=clf.fit(c,label)\n",
    "\n",
    "clf.predict(c)\n"
   ]
  },
  {
   "cell_type": "code",
   "execution_count": 13,
   "metadata": {},
   "outputs": [
    {
     "data": {
      "image/svg+xml": [
       "<?xml version=\"1.0\" encoding=\"UTF-8\" standalone=\"no\"?>\n",
       "<!DOCTYPE svg PUBLIC \"-//W3C//DTD SVG 1.1//EN\"\n",
       " \"http://www.w3.org/Graphics/SVG/1.1/DTD/svg11.dtd\">\n",
       "<!-- Generated by graphviz version 2.40.1 (20161225.0304)\n",
       " -->\n",
       "<!-- Title: Tree Pages: 1 -->\n",
       "<svg width=\"513pt\" height=\"433pt\"\n",
       " viewBox=\"0.00 0.00 513.00 433.00\" xmlns=\"http://www.w3.org/2000/svg\" xmlns:xlink=\"http://www.w3.org/1999/xlink\">\n",
       "<g id=\"graph0\" class=\"graph\" transform=\"scale(1 1) rotate(0) translate(4 429)\">\n",
       "<title>Tree</title>\n",
       "<polygon fill=\"#ffffff\" stroke=\"transparent\" points=\"-4,4 -4,-429 509,-429 509,4 -4,4\"/>\n",
       "<!-- 0 -->\n",
       "<g id=\"node1\" class=\"node\">\n",
       "<title>0</title>\n",
       "<path fill=\"#ffffff\" stroke=\"#000000\" d=\"M319.5,-425C319.5,-425 243.5,-425 243.5,-425 237.5,-425 231.5,-419 231.5,-413 231.5,-413 231.5,-354 231.5,-354 231.5,-348 237.5,-342 243.5,-342 243.5,-342 319.5,-342 319.5,-342 325.5,-342 331.5,-348 331.5,-354 331.5,-354 331.5,-413 331.5,-413 331.5,-419 325.5,-425 319.5,-425\"/>\n",
       "<text text-anchor=\"start\" x=\"250\" y=\"-409.8\" font-family=\"Helvetica,sans-Serif\" font-size=\"14.00\" fill=\"#000000\">a ≤ &#45;0.119</text>\n",
       "<text text-anchor=\"start\" x=\"252.5\" y=\"-394.8\" font-family=\"Helvetica,sans-Serif\" font-size=\"14.00\" fill=\"#000000\">gini = 0.5</text>\n",
       "<text text-anchor=\"start\" x=\"239.5\" y=\"-379.8\" font-family=\"Helvetica,sans-Serif\" font-size=\"14.00\" fill=\"#000000\">samples = 10</text>\n",
       "<text text-anchor=\"start\" x=\"241\" y=\"-364.8\" font-family=\"Helvetica,sans-Serif\" font-size=\"14.00\" fill=\"#000000\">value = [5, 5]</text>\n",
       "<text text-anchor=\"start\" x=\"243\" y=\"-349.8\" font-family=\"Helvetica,sans-Serif\" font-size=\"14.00\" fill=\"#000000\">class = True</text>\n",
       "</g>\n",
       "<!-- 1 -->\n",
       "<g id=\"node2\" class=\"node\">\n",
       "<title>1</title>\n",
       "<path fill=\"#6ab6ec\" stroke=\"#000000\" d=\"M261,-306C261,-306 186,-306 186,-306 180,-306 174,-300 174,-294 174,-294 174,-235 174,-235 174,-229 180,-223 186,-223 186,-223 261,-223 261,-223 267,-223 273,-229 273,-235 273,-235 273,-294 273,-294 273,-300 267,-306 261,-306\"/>\n",
       "<text text-anchor=\"start\" x=\"194\" y=\"-290.8\" font-family=\"Helvetica,sans-Serif\" font-size=\"14.00\" fill=\"#000000\">b ≤ 0.004</text>\n",
       "<text text-anchor=\"start\" x=\"191\" y=\"-275.8\" font-family=\"Helvetica,sans-Serif\" font-size=\"14.00\" fill=\"#000000\">gini = 0.32</text>\n",
       "<text text-anchor=\"start\" x=\"185.5\" y=\"-260.8\" font-family=\"Helvetica,sans-Serif\" font-size=\"14.00\" fill=\"#000000\">samples = 5</text>\n",
       "<text text-anchor=\"start\" x=\"183\" y=\"-245.8\" font-family=\"Helvetica,sans-Serif\" font-size=\"14.00\" fill=\"#000000\">value = [1, 4]</text>\n",
       "<text text-anchor=\"start\" x=\"182\" y=\"-230.8\" font-family=\"Helvetica,sans-Serif\" font-size=\"14.00\" fill=\"#000000\">class = False</text>\n",
       "</g>\n",
       "<!-- 0&#45;&gt;1 -->\n",
       "<g id=\"edge1\" class=\"edge\">\n",
       "<title>0&#45;&gt;1</title>\n",
       "<path fill=\"none\" stroke=\"#000000\" d=\"M261.2144,-341.8796C257.0443,-333.3236 252.6091,-324.2238 248.3003,-315.3833\"/>\n",
       "<polygon fill=\"#000000\" stroke=\"#000000\" points=\"251.3997,-313.7538 243.8722,-306.2981 245.1073,-316.8207 251.3997,-313.7538\"/>\n",
       "<text text-anchor=\"middle\" x=\"235.7265\" y=\"-326.2338\" font-family=\"Helvetica,sans-Serif\" font-size=\"14.00\" fill=\"#000000\">True</text>\n",
       "</g>\n",
       "<!-- 6 -->\n",
       "<g id=\"node7\" class=\"node\">\n",
       "<title>6</title>\n",
       "<path fill=\"#eca06a\" stroke=\"#000000\" d=\"M376,-306C376,-306 303,-306 303,-306 297,-306 291,-300 291,-294 291,-294 291,-235 291,-235 291,-229 297,-223 303,-223 303,-223 376,-223 376,-223 382,-223 388,-229 388,-235 388,-235 388,-294 388,-294 388,-300 382,-306 376,-306\"/>\n",
       "<text text-anchor=\"start\" x=\"310\" y=\"-290.8\" font-family=\"Helvetica,sans-Serif\" font-size=\"14.00\" fill=\"#000000\">a ≤ 0.904</text>\n",
       "<text text-anchor=\"start\" x=\"307\" y=\"-275.8\" font-family=\"Helvetica,sans-Serif\" font-size=\"14.00\" fill=\"#000000\">gini = 0.32</text>\n",
       "<text text-anchor=\"start\" x=\"301.5\" y=\"-260.8\" font-family=\"Helvetica,sans-Serif\" font-size=\"14.00\" fill=\"#000000\">samples = 5</text>\n",
       "<text text-anchor=\"start\" x=\"299\" y=\"-245.8\" font-family=\"Helvetica,sans-Serif\" font-size=\"14.00\" fill=\"#000000\">value = [4, 1]</text>\n",
       "<text text-anchor=\"start\" x=\"301\" y=\"-230.8\" font-family=\"Helvetica,sans-Serif\" font-size=\"14.00\" fill=\"#000000\">class = True</text>\n",
       "</g>\n",
       "<!-- 0&#45;&gt;6 -->\n",
       "<g id=\"edge6\" class=\"edge\">\n",
       "<title>0&#45;&gt;6</title>\n",
       "<path fill=\"none\" stroke=\"#000000\" d=\"M301.7856,-341.8796C305.9557,-333.3236 310.3909,-324.2238 314.6997,-315.3833\"/>\n",
       "<polygon fill=\"#000000\" stroke=\"#000000\" points=\"317.8927,-316.8207 319.1278,-306.2981 311.6003,-313.7538 317.8927,-316.8207\"/>\n",
       "<text text-anchor=\"middle\" x=\"327.2735\" y=\"-326.2338\" font-family=\"Helvetica,sans-Serif\" font-size=\"14.00\" fill=\"#000000\">False</text>\n",
       "</g>\n",
       "<!-- 2 -->\n",
       "<g id=\"node3\" class=\"node\">\n",
       "<title>2</title>\n",
       "<path fill=\"#ffffff\" stroke=\"#000000\" d=\"M144,-187C144,-187 71,-187 71,-187 65,-187 59,-181 59,-175 59,-175 59,-116 59,-116 59,-110 65,-104 71,-104 71,-104 144,-104 144,-104 150,-104 156,-110 156,-116 156,-116 156,-175 156,-175 156,-181 150,-187 144,-187\"/>\n",
       "<text text-anchor=\"start\" x=\"76\" y=\"-171.8\" font-family=\"Helvetica,sans-Serif\" font-size=\"14.00\" fill=\"#000000\">b ≤ &#45;0.518</text>\n",
       "<text text-anchor=\"start\" x=\"78.5\" y=\"-156.8\" font-family=\"Helvetica,sans-Serif\" font-size=\"14.00\" fill=\"#000000\">gini = 0.5</text>\n",
       "<text text-anchor=\"start\" x=\"69.5\" y=\"-141.8\" font-family=\"Helvetica,sans-Serif\" font-size=\"14.00\" fill=\"#000000\">samples = 2</text>\n",
       "<text text-anchor=\"start\" x=\"67\" y=\"-126.8\" font-family=\"Helvetica,sans-Serif\" font-size=\"14.00\" fill=\"#000000\">value = [1, 1]</text>\n",
       "<text text-anchor=\"start\" x=\"69\" y=\"-111.8\" font-family=\"Helvetica,sans-Serif\" font-size=\"14.00\" fill=\"#000000\">class = True</text>\n",
       "</g>\n",
       "<!-- 1&#45;&gt;2 -->\n",
       "<g id=\"edge2\" class=\"edge\">\n",
       "<title>1&#45;&gt;2</title>\n",
       "<path fill=\"none\" stroke=\"#000000\" d=\"M182.9288,-222.8796C174.0618,-213.7832 164.5956,-204.0722 155.4709,-194.7116\"/>\n",
       "<polygon fill=\"#000000\" stroke=\"#000000\" points=\"157.7309,-192.0158 148.2443,-187.2981 152.7183,-196.9019 157.7309,-192.0158\"/>\n",
       "</g>\n",
       "<!-- 5 -->\n",
       "<g id=\"node6\" class=\"node\">\n",
       "<title>5</title>\n",
       "<path fill=\"#399de5\" stroke=\"#000000\" d=\"M261,-179.5C261,-179.5 186,-179.5 186,-179.5 180,-179.5 174,-173.5 174,-167.5 174,-167.5 174,-123.5 174,-123.5 174,-117.5 180,-111.5 186,-111.5 186,-111.5 261,-111.5 261,-111.5 267,-111.5 273,-117.5 273,-123.5 273,-123.5 273,-167.5 273,-167.5 273,-173.5 267,-179.5 261,-179.5\"/>\n",
       "<text text-anchor=\"start\" x=\"194.5\" y=\"-164.3\" font-family=\"Helvetica,sans-Serif\" font-size=\"14.00\" fill=\"#000000\">gini = 0.0</text>\n",
       "<text text-anchor=\"start\" x=\"185.5\" y=\"-149.3\" font-family=\"Helvetica,sans-Serif\" font-size=\"14.00\" fill=\"#000000\">samples = 3</text>\n",
       "<text text-anchor=\"start\" x=\"183\" y=\"-134.3\" font-family=\"Helvetica,sans-Serif\" font-size=\"14.00\" fill=\"#000000\">value = [0, 3]</text>\n",
       "<text text-anchor=\"start\" x=\"182\" y=\"-119.3\" font-family=\"Helvetica,sans-Serif\" font-size=\"14.00\" fill=\"#000000\">class = False</text>\n",
       "</g>\n",
       "<!-- 1&#45;&gt;5 -->\n",
       "<g id=\"edge5\" class=\"edge\">\n",
       "<title>1&#45;&gt;5</title>\n",
       "<path fill=\"none\" stroke=\"#000000\" d=\"M223.5,-222.8796C223.5,-212.2134 223.5,-200.7021 223.5,-189.9015\"/>\n",
       "<polygon fill=\"#000000\" stroke=\"#000000\" points=\"227.0001,-189.8149 223.5,-179.8149 220.0001,-189.815 227.0001,-189.8149\"/>\n",
       "</g>\n",
       "<!-- 3 -->\n",
       "<g id=\"node4\" class=\"node\">\n",
       "<title>3</title>\n",
       "<path fill=\"#399de5\" stroke=\"#000000\" d=\"M87,-68C87,-68 12,-68 12,-68 6,-68 0,-62 0,-56 0,-56 0,-12 0,-12 0,-6 6,0 12,0 12,0 87,0 87,0 93,0 99,-6 99,-12 99,-12 99,-56 99,-56 99,-62 93,-68 87,-68\"/>\n",
       "<text text-anchor=\"start\" x=\"20.5\" y=\"-52.8\" font-family=\"Helvetica,sans-Serif\" font-size=\"14.00\" fill=\"#000000\">gini = 0.0</text>\n",
       "<text text-anchor=\"start\" x=\"11.5\" y=\"-37.8\" font-family=\"Helvetica,sans-Serif\" font-size=\"14.00\" fill=\"#000000\">samples = 1</text>\n",
       "<text text-anchor=\"start\" x=\"9\" y=\"-22.8\" font-family=\"Helvetica,sans-Serif\" font-size=\"14.00\" fill=\"#000000\">value = [0, 1]</text>\n",
       "<text text-anchor=\"start\" x=\"8\" y=\"-7.8\" font-family=\"Helvetica,sans-Serif\" font-size=\"14.00\" fill=\"#000000\">class = False</text>\n",
       "</g>\n",
       "<!-- 2&#45;&gt;3 -->\n",
       "<g id=\"edge3\" class=\"edge\">\n",
       "<title>2&#45;&gt;3</title>\n",
       "<path fill=\"none\" stroke=\"#000000\" d=\"M85.9029,-103.9815C81.3612,-95.2504 76.5598,-86.0202 71.9863,-77.2281\"/>\n",
       "<polygon fill=\"#000000\" stroke=\"#000000\" points=\"75.0431,-75.52 67.3233,-68.2637 68.8331,-78.7504 75.0431,-75.52\"/>\n",
       "</g>\n",
       "<!-- 4 -->\n",
       "<g id=\"node5\" class=\"node\">\n",
       "<title>4</title>\n",
       "<path fill=\"#e58139\" stroke=\"#000000\" d=\"M202,-68C202,-68 129,-68 129,-68 123,-68 117,-62 117,-56 117,-56 117,-12 117,-12 117,-6 123,0 129,0 129,0 202,0 202,0 208,0 214,-6 214,-12 214,-12 214,-56 214,-56 214,-62 208,-68 202,-68\"/>\n",
       "<text text-anchor=\"start\" x=\"136.5\" y=\"-52.8\" font-family=\"Helvetica,sans-Serif\" font-size=\"14.00\" fill=\"#000000\">gini = 0.0</text>\n",
       "<text text-anchor=\"start\" x=\"127.5\" y=\"-37.8\" font-family=\"Helvetica,sans-Serif\" font-size=\"14.00\" fill=\"#000000\">samples = 1</text>\n",
       "<text text-anchor=\"start\" x=\"125\" y=\"-22.8\" font-family=\"Helvetica,sans-Serif\" font-size=\"14.00\" fill=\"#000000\">value = [1, 0]</text>\n",
       "<text text-anchor=\"start\" x=\"127\" y=\"-7.8\" font-family=\"Helvetica,sans-Serif\" font-size=\"14.00\" fill=\"#000000\">class = True</text>\n",
       "</g>\n",
       "<!-- 2&#45;&gt;4 -->\n",
       "<g id=\"edge4\" class=\"edge\">\n",
       "<title>2&#45;&gt;4</title>\n",
       "<path fill=\"none\" stroke=\"#000000\" d=\"M129.0971,-103.9815C133.6388,-95.2504 138.4402,-86.0202 143.0137,-77.2281\"/>\n",
       "<polygon fill=\"#000000\" stroke=\"#000000\" points=\"146.1669,-78.7504 147.6767,-68.2637 139.9569,-75.52 146.1669,-78.7504\"/>\n",
       "</g>\n",
       "<!-- 7 -->\n",
       "<g id=\"node8\" class=\"node\">\n",
       "<title>7</title>\n",
       "<path fill=\"#e58139\" stroke=\"#000000\" d=\"M376,-179.5C376,-179.5 303,-179.5 303,-179.5 297,-179.5 291,-173.5 291,-167.5 291,-167.5 291,-123.5 291,-123.5 291,-117.5 297,-111.5 303,-111.5 303,-111.5 376,-111.5 376,-111.5 382,-111.5 388,-117.5 388,-123.5 388,-123.5 388,-167.5 388,-167.5 388,-173.5 382,-179.5 376,-179.5\"/>\n",
       "<text text-anchor=\"start\" x=\"310.5\" y=\"-164.3\" font-family=\"Helvetica,sans-Serif\" font-size=\"14.00\" fill=\"#000000\">gini = 0.0</text>\n",
       "<text text-anchor=\"start\" x=\"301.5\" y=\"-149.3\" font-family=\"Helvetica,sans-Serif\" font-size=\"14.00\" fill=\"#000000\">samples = 4</text>\n",
       "<text text-anchor=\"start\" x=\"299\" y=\"-134.3\" font-family=\"Helvetica,sans-Serif\" font-size=\"14.00\" fill=\"#000000\">value = [4, 0]</text>\n",
       "<text text-anchor=\"start\" x=\"301\" y=\"-119.3\" font-family=\"Helvetica,sans-Serif\" font-size=\"14.00\" fill=\"#000000\">class = True</text>\n",
       "</g>\n",
       "<!-- 6&#45;&gt;7 -->\n",
       "<g id=\"edge7\" class=\"edge\">\n",
       "<title>6&#45;&gt;7</title>\n",
       "<path fill=\"none\" stroke=\"#000000\" d=\"M339.5,-222.8796C339.5,-212.2134 339.5,-200.7021 339.5,-189.9015\"/>\n",
       "<polygon fill=\"#000000\" stroke=\"#000000\" points=\"343.0001,-189.8149 339.5,-179.8149 336.0001,-189.815 343.0001,-189.8149\"/>\n",
       "</g>\n",
       "<!-- 8 -->\n",
       "<g id=\"node9\" class=\"node\">\n",
       "<title>8</title>\n",
       "<path fill=\"#399de5\" stroke=\"#000000\" d=\"M493,-179.5C493,-179.5 418,-179.5 418,-179.5 412,-179.5 406,-173.5 406,-167.5 406,-167.5 406,-123.5 406,-123.5 406,-117.5 412,-111.5 418,-111.5 418,-111.5 493,-111.5 493,-111.5 499,-111.5 505,-117.5 505,-123.5 505,-123.5 505,-167.5 505,-167.5 505,-173.5 499,-179.5 493,-179.5\"/>\n",
       "<text text-anchor=\"start\" x=\"426.5\" y=\"-164.3\" font-family=\"Helvetica,sans-Serif\" font-size=\"14.00\" fill=\"#000000\">gini = 0.0</text>\n",
       "<text text-anchor=\"start\" x=\"417.5\" y=\"-149.3\" font-family=\"Helvetica,sans-Serif\" font-size=\"14.00\" fill=\"#000000\">samples = 1</text>\n",
       "<text text-anchor=\"start\" x=\"415\" y=\"-134.3\" font-family=\"Helvetica,sans-Serif\" font-size=\"14.00\" fill=\"#000000\">value = [0, 1]</text>\n",
       "<text text-anchor=\"start\" x=\"414\" y=\"-119.3\" font-family=\"Helvetica,sans-Serif\" font-size=\"14.00\" fill=\"#000000\">class = False</text>\n",
       "</g>\n",
       "<!-- 6&#45;&gt;8 -->\n",
       "<g id=\"edge8\" class=\"edge\">\n",
       "<title>6&#45;&gt;8</title>\n",
       "<path fill=\"none\" stroke=\"#000000\" d=\"M380.0712,-222.8796C391.326,-211.3337 403.5461,-198.7976 414.8078,-187.2446\"/>\n",
       "<polygon fill=\"#000000\" stroke=\"#000000\" points=\"417.5762,-189.4188 422.0501,-179.8149 412.5636,-184.5326 417.5762,-189.4188\"/>\n",
       "</g>\n",
       "</g>\n",
       "</svg>\n"
      ],
      "text/plain": [
       "<graphviz.files.Source at 0x1a1e5d1510>"
      ]
     },
     "execution_count": 13,
     "metadata": {},
     "output_type": "execute_result"
    }
   ],
   "source": [
    "\n",
    "dot_data = tree.export_graphviz(clf, out_file=None, \n",
    "                         feature_names=np.array(['a','b']),  \n",
    "                         class_names=np.array(['True', 'False']),  \n",
    "                         filled=True, rounded=True,  \n",
    "                         special_characters=True)  \n",
    "graph = graphviz.Source(dot_data) \n",
    "graph"
   ]
  },
  {
   "cell_type": "code",
   "execution_count": 5,
   "metadata": {},
   "outputs": [
    {
     "data": {
      "text/plain": [
       "<bound method NDFrame.describe of           x1  c1        x2  c2\n",
       "0   4.120025  c1 -3.982663  c2\n",
       "1   4.062360  c1 -2.225822  c2\n",
       "2   4.252531  c1 -5.648235  c2\n",
       "3   7.927300  c1 -5.697833  c2\n",
       "4   7.523486  c1 -7.354401  c2\n",
       "..       ...  ..       ...  ..\n",
       "95  5.211458  c1 -4.224333  c2\n",
       "96  5.973898  c1 -8.197296  c2\n",
       "97  7.521344  c1 -4.734819  c2\n",
       "98  5.334874  c1 -5.534459  c2\n",
       "99  5.510840  c1 -4.116002  c2\n",
       "\n",
       "[100 rows x 4 columns]>"
      ]
     },
     "execution_count": 5,
     "metadata": {},
     "output_type": "execute_result"
    }
   ],
   "source": [
    "big_df=pd.concat([df1,df2],  axis=1)\n",
    "big_df.describe"
   ]
  },
  {
   "cell_type": "code",
   "execution_count": 6,
   "metadata": {},
   "outputs": [
    {
     "data": {
      "text/plain": [
       "<bound method NDFrame.describe of           x1  c1        x2  c2\n",
       "0   4.120025  c1 -3.982663  c2\n",
       "1   4.062360  c1 -2.225822  c2\n",
       "2   4.252531  c1 -5.648235  c2\n",
       "3   7.927300  c1 -5.697833  c2\n",
       "4   7.523486  c1 -7.354401  c2\n",
       "..       ...  ..       ...  ..\n",
       "95  5.211458  c1 -4.224333  c2\n",
       "96  5.973898  c1 -8.197296  c2\n",
       "97  7.521344  c1 -4.734819  c2\n",
       "98  5.334874  c1 -5.534459  c2\n",
       "99  5.510840  c1 -4.116002  c2\n",
       "\n",
       "[100 rows x 4 columns]>"
      ]
     },
     "execution_count": 6,
     "metadata": {},
     "output_type": "execute_result"
    }
   ],
   "source": [
    "big_df.columns\n",
    "big_df.describe"
   ]
  },
  {
   "cell_type": "code",
   "execution_count": 17,
   "metadata": {},
   "outputs": [],
   "source": [
    "from sklearn import tree\n",
    "from sklearn import model_selection\n",
    "#X_train, X_test, y_train, y_test = model_selection.train_test_split\n",
    "#(big_df.columns,big_df.describe,test_size=0.2)\n"
   ]
  },
  {
   "cell_type": "code",
   "execution_count": 16,
   "metadata": {},
   "outputs": [
    {
     "name": "stdout",
     "output_type": "stream",
     "text": [
      "DecisionTreeClassifier(class_weight=None, criterion='gini', max_depth=2,\n",
      "                       max_features=None, max_leaf_nodes=None,\n",
      "                       min_impurity_decrease=0.0, min_impurity_split=None,\n",
      "                       min_samples_leaf=1, min_samples_split=2,\n",
      "                       min_weight_fraction_leaf=0.0, presort=False,\n",
      "                       random_state=None, splitter='best')\n"
     ]
    }
   ],
   "source": [
    "clf=tree.DecisionTreeClassifier(max_depth=2)\n",
    "print(clf)\n"
   ]
  },
  {
   "cell_type": "code",
   "execution_count": 15,
   "metadata": {},
   "outputs": [
    {
     "data": {
      "text/plain": [
       "(array([1., 0., 0., 0., 0., 0., 0., 0., 1., 0., 0., 0., 0., 0., 0., 0., 0.,\n",
       "        1., 1., 3., 1., 0., 2., 0., 0., 0., 0., 0., 0., 5., 2., 1., 2., 1.,\n",
       "        0., 2., 0., 2., 1., 2., 2., 2., 1., 2., 1., 5., 1., 3., 1., 2., 4.,\n",
       "        2., 0., 4., 0., 2., 3., 2., 3., 2., 2., 3., 2., 2., 0., 1., 2., 0.,\n",
       "        2., 3., 0., 0., 1., 3., 0., 1., 0., 0., 0., 0., 0., 0., 3., 0., 1.,\n",
       "        1., 0., 1., 0., 0., 0., 0., 1., 0., 0., 0., 0., 0., 0., 1.]),\n",
       " array([-1.59739061, -1.4705023 , -1.343614  , -1.21672569, -1.08983738,\n",
       "        -0.96294908, -0.83606077, -0.70917247, -0.58228416, -0.45539585,\n",
       "        -0.32850755, -0.20161924, -0.07473093,  0.05215737,  0.17904568,\n",
       "         0.30593399,  0.43282229,  0.5597106 ,  0.6865989 ,  0.81348721,\n",
       "         0.94037552,  1.06726382,  1.19415213,  1.32104044,  1.44792874,\n",
       "         1.57481705,  1.70170536,  1.82859366,  1.95548197,  2.08237027,\n",
       "         2.20925858,  2.33614689,  2.46303519,  2.5899235 ,  2.71681181,\n",
       "         2.84370011,  2.97058842,  3.09747673,  3.22436503,  3.35125334,\n",
       "         3.47814164,  3.60502995,  3.73191826,  3.85880656,  3.98569487,\n",
       "         4.11258318,  4.23947148,  4.36635979,  4.4932481 ,  4.6201364 ,\n",
       "         4.74702471,  4.87391301,  5.00080132,  5.12768963,  5.25457793,\n",
       "         5.38146624,  5.50835455,  5.63524285,  5.76213116,  5.88901947,\n",
       "         6.01590777,  6.14279608,  6.26968438,  6.39657269,  6.523461  ,\n",
       "         6.6503493 ,  6.77723761,  6.90412592,  7.03101422,  7.15790253,\n",
       "         7.28479084,  7.41167914,  7.53856745,  7.66545575,  7.79234406,\n",
       "         7.91923237,  8.04612067,  8.17300898,  8.29989729,  8.42678559,\n",
       "         8.5536739 ,  8.68056221,  8.80745051,  8.93433882,  9.06122712,\n",
       "         9.18811543,  9.31500374,  9.44189204,  9.56878035,  9.69566866,\n",
       "         9.82255696,  9.94944527, 10.07633358, 10.20322188, 10.33011019,\n",
       "        10.45699849, 10.5838868 , 10.71077511, 10.83766341, 10.96455172,\n",
       "        11.09144003]),\n",
       " <a list of 100 Patch objects>)"
      ]
     },
     "execution_count": 15,
     "metadata": {},
     "output_type": "execute_result"
    },
    {
     "data": {
      "image/png": "[encoded data removed]",
      "text/plain": [
       "<Figure size 432x288 with 1 Axes>"
      ]
     },
     "metadata": {
      "needs_background": "light"
     },
     "output_type": "display_data"
    }
   ],
   "source": [
    "import matplotlib.pyplot as plt\n",
    "plt.hist(x1,bins=100)"
   ]
  },
  {
   "cell_type": "code",
   "execution_count": 14,
   "metadata": {},
   "outputs": [
    {
     "data": {
      "text/plain": [
       "(array([1., 0., 0., 0., 1., 0., 1., 0., 0., 0., 0., 0., 1., 0., 0., 2., 1.,\n",
       "        0., 0., 0., 3., 0., 1., 0., 2., 3., 2., 1., 1., 0., 1., 3., 2., 2.,\n",
       "        0., 0., 0., 5., 0., 2., 1., 3., 3., 3., 1., 2., 2., 1., 1., 1., 3.,\n",
       "        1., 3., 3., 0., 1., 4., 5., 3., 0., 2., 1., 1., 3., 0., 1., 2., 2.,\n",
       "        0., 1., 0., 1., 0., 1., 1., 1., 2., 0., 0., 2., 0., 0., 0., 0., 0.,\n",
       "        0., 0., 0., 0., 0., 0., 0., 2., 0., 0., 0., 0., 0., 0., 1.]),\n",
       " array([-9.89641937, -9.7960737 , -9.69572802, -9.59538234, -9.49503666,\n",
       "        -9.39469099, -9.29434531, -9.19399963, -9.09365396, -8.99330828,\n",
       "        -8.8929626 , -8.79261692, -8.69227125, -8.59192557, -8.49157989,\n",
       "        -8.39123422, -8.29088854, -8.19054286, -8.09019719, -7.98985151,\n",
       "        -7.88950583, -7.78916015, -7.68881448, -7.5884688 , -7.48812312,\n",
       "        -7.38777745, -7.28743177, -7.18708609, -7.08674041, -6.98639474,\n",
       "        -6.88604906, -6.78570338, -6.68535771, -6.58501203, -6.48466635,\n",
       "        -6.38432067, -6.283975  , -6.18362932, -6.08328364, -5.98293797,\n",
       "        -5.88259229, -5.78224661, -5.68190093, -5.58155526, -5.48120958,\n",
       "        -5.3808639 , -5.28051823, -5.18017255, -5.07982687, -4.97948119,\n",
       "        -4.87913552, -4.77878984, -4.67844416, -4.57809849, -4.47775281,\n",
       "        -4.37740713, -4.27706146, -4.17671578, -4.0763701 , -3.97602442,\n",
       "        -3.87567875, -3.77533307, -3.67498739, -3.57464172, -3.47429604,\n",
       "        -3.37395036, -3.27360468, -3.17325901, -3.07291333, -2.97256765,\n",
       "        -2.87222198, -2.7718763 , -2.67153062, -2.57118494, -2.47083927,\n",
       "        -2.37049359, -2.27014791, -2.16980224, -2.06945656, -1.96911088,\n",
       "        -1.8687652 , -1.76841953, -1.66807385, -1.56772817, -1.4673825 ,\n",
       "        -1.36703682, -1.26669114, -1.16634546, -1.06599979, -0.96565411,\n",
       "        -0.86530843, -0.76496276, -0.66461708, -0.5642714 , -0.46392573,\n",
       "        -0.36358005, -0.26323437, -0.16288869, -0.06254302,  0.03780266,\n",
       "         0.13814834]),\n",
       " <a list of 100 Patch objects>)"
      ]
     },
     "execution_count": 14,
     "metadata": {},
     "output_type": "execute_result"
    },
    {
     "data": {
      "image/png": "[encoded data removed]",
      "text/plain": [
       "<Figure size 432x288 with 1 Axes>"
      ]
     },
     "metadata": {
      "needs_background": "light"
     },
     "output_type": "display_data"
    }
   ],
   "source": [
    "plt.hist(x2,bins=100)"
   ]
  },
  {
   "cell_type": "code",
   "execution_count": null,
   "metadata": {},
   "outputs": [],
   "source": []
  }
 ],
 "metadata": {
  "kernelspec": {
   "display_name": "Python 3",
   "language": "python",
   "name": "python3"
  },
  "language_info": {
   "codemirror_mode": {
    "name": "ipython",
    "version": 3
   },
   "file_extension": ".py",
   "mimetype": "text/x-python",
   "name": "python",
   "nbconvert_exporter": "python",
   "pygments_lexer": "ipython3",
   "version": "3.7.4"
  }
 },
 "nbformat": 4,
 "nbformat_minor": 2
}
