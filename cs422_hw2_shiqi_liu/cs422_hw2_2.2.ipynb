{
 "cells": [
  {
   "cell_type": "code",
   "execution_count": 2,
   "metadata": {},
   "outputs": [],
   "source": [
    "import numpy as np\n",
    "import pandas as pd\n",
    "\n",
    "from sklearn.datasets import load_breast_cancer\n",
    "from sklearn.datasets import load_iris\n",
    "\n",
    "from sklearn import tree\n",
    "from sklearn.tree import DecisionTreeClassifier\n",
    "from sklearn.tree import export_graphviz\n",
    "from sklearn.impute import SimpleImputer\n",
    "\n",
    "from sklearn import model_selection\n",
    "from sklearn import metrics\n",
    "\n",
    "import matplotlib.pyplot as plt\n",
    "\n",
    "%matplotlib inline"
   ]
  },
  {
   "cell_type": "code",
   "execution_count": 3,
   "metadata": {},
   "outputs": [
    {
     "data": {
      "text/html": [
       "<div>\n",
       "<style scoped>\n",
       "    .dataframe tbody tr th:only-of-type {\n",
       "        vertical-align: middle;\n",
       "    }\n",
       "\n",
       "    .dataframe tbody tr th {\n",
       "        vertical-align: top;\n",
       "    }\n",
       "\n",
       "    .dataframe thead th {\n",
       "        text-align: right;\n",
       "    }\n",
       "</style>\n",
       "<table border=\"1\" class=\"dataframe\">\n",
       "  <thead>\n",
       "    <tr style=\"text-align: right;\">\n",
       "      <th></th>\n",
       "      <th>Clump Thickness</th>\n",
       "      <th>Uniformity of Cell Size</th>\n",
       "      <th>Uniformity of Cell Shape</th>\n",
       "      <th>Marginal Adhesion</th>\n",
       "      <th>Simple Epithelial Cell Size</th>\n",
       "      <th>Bare Nuclei</th>\n",
       "      <th>Bland Chromatin</th>\n",
       "      <th>Normal Nucleoli</th>\n",
       "      <th>Mitoses</th>\n",
       "      <th>Class (2 for benign, 4 for malignant)</th>\n",
       "    </tr>\n",
       "  </thead>\n",
       "  <tbody>\n",
       "    <tr>\n",
       "      <td>0</td>\n",
       "      <td>5.0</td>\n",
       "      <td>1.0</td>\n",
       "      <td>1.0</td>\n",
       "      <td>1.0</td>\n",
       "      <td>2.0</td>\n",
       "      <td>1.0</td>\n",
       "      <td>3.0</td>\n",
       "      <td>1.0</td>\n",
       "      <td>1.0</td>\n",
       "      <td>2.0</td>\n",
       "    </tr>\n",
       "    <tr>\n",
       "      <td>1</td>\n",
       "      <td>5.0</td>\n",
       "      <td>4.0</td>\n",
       "      <td>4.0</td>\n",
       "      <td>5.0</td>\n",
       "      <td>7.0</td>\n",
       "      <td>10.0</td>\n",
       "      <td>3.0</td>\n",
       "      <td>2.0</td>\n",
       "      <td>1.0</td>\n",
       "      <td>2.0</td>\n",
       "    </tr>\n",
       "    <tr>\n",
       "      <td>2</td>\n",
       "      <td>3.0</td>\n",
       "      <td>1.0</td>\n",
       "      <td>1.0</td>\n",
       "      <td>1.0</td>\n",
       "      <td>2.0</td>\n",
       "      <td>2.0</td>\n",
       "      <td>3.0</td>\n",
       "      <td>1.0</td>\n",
       "      <td>1.0</td>\n",
       "      <td>2.0</td>\n",
       "    </tr>\n",
       "    <tr>\n",
       "      <td>3</td>\n",
       "      <td>6.0</td>\n",
       "      <td>8.0</td>\n",
       "      <td>8.0</td>\n",
       "      <td>1.0</td>\n",
       "      <td>3.0</td>\n",
       "      <td>4.0</td>\n",
       "      <td>3.0</td>\n",
       "      <td>7.0</td>\n",
       "      <td>1.0</td>\n",
       "      <td>2.0</td>\n",
       "    </tr>\n",
       "    <tr>\n",
       "      <td>4</td>\n",
       "      <td>4.0</td>\n",
       "      <td>1.0</td>\n",
       "      <td>1.0</td>\n",
       "      <td>3.0</td>\n",
       "      <td>2.0</td>\n",
       "      <td>1.0</td>\n",
       "      <td>3.0</td>\n",
       "      <td>1.0</td>\n",
       "      <td>1.0</td>\n",
       "      <td>2.0</td>\n",
       "    </tr>\n",
       "    <tr>\n",
       "      <td>...</td>\n",
       "      <td>...</td>\n",
       "      <td>...</td>\n",
       "      <td>...</td>\n",
       "      <td>...</td>\n",
       "      <td>...</td>\n",
       "      <td>...</td>\n",
       "      <td>...</td>\n",
       "      <td>...</td>\n",
       "      <td>...</td>\n",
       "      <td>...</td>\n",
       "    </tr>\n",
       "    <tr>\n",
       "      <td>694</td>\n",
       "      <td>3.0</td>\n",
       "      <td>1.0</td>\n",
       "      <td>1.0</td>\n",
       "      <td>1.0</td>\n",
       "      <td>3.0</td>\n",
       "      <td>2.0</td>\n",
       "      <td>1.0</td>\n",
       "      <td>1.0</td>\n",
       "      <td>1.0</td>\n",
       "      <td>2.0</td>\n",
       "    </tr>\n",
       "    <tr>\n",
       "      <td>695</td>\n",
       "      <td>2.0</td>\n",
       "      <td>1.0</td>\n",
       "      <td>1.0</td>\n",
       "      <td>1.0</td>\n",
       "      <td>2.0</td>\n",
       "      <td>1.0</td>\n",
       "      <td>1.0</td>\n",
       "      <td>1.0</td>\n",
       "      <td>1.0</td>\n",
       "      <td>2.0</td>\n",
       "    </tr>\n",
       "    <tr>\n",
       "      <td>696</td>\n",
       "      <td>5.0</td>\n",
       "      <td>10.0</td>\n",
       "      <td>10.0</td>\n",
       "      <td>3.0</td>\n",
       "      <td>7.0</td>\n",
       "      <td>3.0</td>\n",
       "      <td>8.0</td>\n",
       "      <td>10.0</td>\n",
       "      <td>2.0</td>\n",
       "      <td>4.0</td>\n",
       "    </tr>\n",
       "    <tr>\n",
       "      <td>697</td>\n",
       "      <td>4.0</td>\n",
       "      <td>8.0</td>\n",
       "      <td>6.0</td>\n",
       "      <td>4.0</td>\n",
       "      <td>3.0</td>\n",
       "      <td>4.0</td>\n",
       "      <td>10.0</td>\n",
       "      <td>6.0</td>\n",
       "      <td>1.0</td>\n",
       "      <td>4.0</td>\n",
       "    </tr>\n",
       "    <tr>\n",
       "      <td>698</td>\n",
       "      <td>4.0</td>\n",
       "      <td>8.0</td>\n",
       "      <td>8.0</td>\n",
       "      <td>5.0</td>\n",
       "      <td>4.0</td>\n",
       "      <td>5.0</td>\n",
       "      <td>10.0</td>\n",
       "      <td>4.0</td>\n",
       "      <td>1.0</td>\n",
       "      <td>4.0</td>\n",
       "    </tr>\n",
       "  </tbody>\n",
       "</table>\n",
       "<p>699 rows × 10 columns</p>\n",
       "</div>"
      ],
      "text/plain": [
       "     Clump Thickness  Uniformity of Cell Size  Uniformity of Cell Shape  \\\n",
       "0                5.0                      1.0                       1.0   \n",
       "1                5.0                      4.0                       4.0   \n",
       "2                3.0                      1.0                       1.0   \n",
       "3                6.0                      8.0                       8.0   \n",
       "4                4.0                      1.0                       1.0   \n",
       "..               ...                      ...                       ...   \n",
       "694              3.0                      1.0                       1.0   \n",
       "695              2.0                      1.0                       1.0   \n",
       "696              5.0                     10.0                      10.0   \n",
       "697              4.0                      8.0                       6.0   \n",
       "698              4.0                      8.0                       8.0   \n",
       "\n",
       "     Marginal Adhesion  Simple Epithelial Cell Size  Bare Nuclei  \\\n",
       "0                  1.0                          2.0          1.0   \n",
       "1                  5.0                          7.0         10.0   \n",
       "2                  1.0                          2.0          2.0   \n",
       "3                  1.0                          3.0          4.0   \n",
       "4                  3.0                          2.0          1.0   \n",
       "..                 ...                          ...          ...   \n",
       "694                1.0                          3.0          2.0   \n",
       "695                1.0                          2.0          1.0   \n",
       "696                3.0                          7.0          3.0   \n",
       "697                4.0                          3.0          4.0   \n",
       "698                5.0                          4.0          5.0   \n",
       "\n",
       "     Bland Chromatin  Normal Nucleoli  Mitoses  \\\n",
       "0                3.0              1.0      1.0   \n",
       "1                3.0              2.0      1.0   \n",
       "2                3.0              1.0      1.0   \n",
       "3                3.0              7.0      1.0   \n",
       "4                3.0              1.0      1.0   \n",
       "..               ...              ...      ...   \n",
       "694              1.0              1.0      1.0   \n",
       "695              1.0              1.0      1.0   \n",
       "696              8.0             10.0      2.0   \n",
       "697             10.0              6.0      1.0   \n",
       "698             10.0              4.0      1.0   \n",
       "\n",
       "     Class (2 for benign, 4 for malignant)  \n",
       "0                                      2.0  \n",
       "1                                      2.0  \n",
       "2                                      2.0  \n",
       "3                                      2.0  \n",
       "4                                      2.0  \n",
       "..                                     ...  \n",
       "694                                    2.0  \n",
       "695                                    2.0  \n",
       "696                                    4.0  \n",
       "697                                    4.0  \n",
       "698                                    4.0  \n",
       "\n",
       "[699 rows x 10 columns]"
      ]
     },
     "execution_count": 3,
     "metadata": {},
     "output_type": "execute_result"
    }
   ],
   "source": [
    "#Create dataframe\n",
    "bc_df = pd.read_csv(\n",
    "    'breast-cancer-wisconsin.data',\n",
    "                    names=['ID','Clump Thickness','Uniformity of Cell Size',\n",
    "                         'Uniformity of Cell Shape','Marginal Adhesion',\n",
    "                         'Simple Epithelial Cell Size','Bare Nuclei','Bland Chromatin',\n",
    "                         'Normal Nucleoli','Mitoses',\n",
    "                        'Class (2 for benign, 4 for malignant)'], na_values=[\"?\"])\n",
    "bc_df = bc_df.drop(columns=['ID'])\n",
    "\n",
    "#Replace missing values in dataframe with the mode\n",
    "imputer = SimpleImputer(missing_values=np.nan, strategy='most_frequent')\n",
    "imputer.fit(bc_df)\n",
    "bc_df[bc_df.columns] = imputer.fit_transform(bc_df)\n",
    "bc_df"
   ]
  },
  {
   "cell_type": "code",
   "execution_count": 4,
   "metadata": {},
   "outputs": [
    {
     "name": "stdout",
     "output_type": "stream",
     "text": [
      "(559, 9) (559,)\n",
      "(140, 9) (140,)\n"
     ]
    }
   ],
   "source": [
    "\n",
    "#Set-up data as samples and features\n",
    "X = bc_df.drop('Class (2 for benign, 4 for malignant)', axis = 1)\n",
    "y = bc_df['Class (2 for benign, 4 for malignant)']\n",
    "\n",
    "#Using the train_test_split function to make a split\n",
    "X_train, X_test, y_train, y_test = model_selection.train_test_split(X, y, test_size=0.2)\n",
    "\n",
    "#For self, total = 569. X_train = 455/569 = 0.8 & X_test = 114/569 = 0.2\n",
    "print(X_train.shape, y_train.shape)\n",
    "print(X_test.shape, y_test.shape)"
   ]
  },
  {
   "cell_type": "code",
   "execution_count": 49,
   "metadata": {},
   "outputs": [
    {
     "data": {
      "text/plain": [
       "[Text(167.4, 181.2, 'X[1] <= 2.5\\ngini = 0.453\\nsamples = 559\\nvalue = [365, 194]'),\n",
       " Text(83.7, 108.72, 'X[7] <= 3.5\\ngini = 0.062\\nsamples = 343\\nvalue = [332, 11]'),\n",
       " Text(41.85, 36.23999999999998, 'gini = 0.024\\nsamples = 335\\nvalue = [331, 4]'),\n",
       " Text(125.55000000000001, 36.23999999999998, 'gini = 0.219\\nsamples = 8\\nvalue = [1, 7]'),\n",
       " Text(251.10000000000002, 108.72, 'X[5] <= 2.5\\ngini = 0.259\\nsamples = 216\\nvalue = [33, 183]'),\n",
       " Text(209.25, 36.23999999999998, 'gini = 0.497\\nsamples = 41\\nvalue = [22, 19]'),\n",
       " Text(292.95, 36.23999999999998, 'gini = 0.118\\nsamples = 175\\nvalue = [11, 164]')]"
      ]
     },
     "execution_count": 49,
     "metadata": {},
     "output_type": "execute_result"
    },
    {
     "data": {
      "image/png": "[encoded data removed]",
      "text/plain": [
       "<Figure size 432x288 with 1 Axes>"
      ]
     },
     "metadata": {
      "needs_background": "light"
     },
     "output_type": "display_data"
    }
   ],
   "source": [
    "#Defining and fitting a decision tree instance\n",
    "classifier = tree.DecisionTreeClassifier(max_depth=2, min_samples_leaf=2, min_samples_split=5)\n",
    "classifier = classifier.fit(X_train, y_train)\n",
    "\n",
    "#Setting up expectations and prediction\n",
    "expected = y_test\n",
    "predicted = classifier.predict(X_test)\n",
    "\n",
    "#Show a visual representation of the tree\n",
    "tree.plot_tree(classifier)"
   ]
  },
  {
   "cell_type": "code",
   "execution_count": 6,
   "metadata": {},
   "outputs": [],
   "source": [
    "#Create functions for the following\n",
    "def gini(p):\n",
    "   return (p)*(1 - (p)) + (1 - p)*(1 - (1-p))\n",
    "\n",
    "def entropy(p):\n",
    "   return - p*np.log2(p) - (1 - p)*np.log2((1 - p))\n",
    "\n",
    "def classification_error(p):\n",
    "   return 1 - np.max([p, 1 - p])\n"
   ]
  },
  {
   "cell_type": "code",
   "execution_count": 7,
   "metadata": {},
   "outputs": [
    {
     "data": {
      "text/plain": [
       "0.42184964845862627"
      ]
     },
     "execution_count": 7,
     "metadata": {},
     "output_type": "execute_result"
    }
   ],
   "source": [
    "#Calculate gini \n",
    "gini(169/559)"
   ]
  },
  {
   "cell_type": "code",
   "execution_count": 8,
   "metadata": {},
   "outputs": [
    {
     "data": {
      "text/plain": [
       "0.3023255813953488"
      ]
     },
     "execution_count": 8,
     "metadata": {},
     "output_type": "execute_result"
    }
   ],
   "source": [
    "#Calculate classification error\n",
    "classification_error(169/559)"
   ]
  },
  {
   "cell_type": "code",
   "execution_count": 9,
   "metadata": {},
   "outputs": [
    {
     "data": {
      "text/plain": [
       "0.8841151220488479"
      ]
     },
     "execution_count": 9,
     "metadata": {},
     "output_type": "execute_result"
    }
   ],
   "source": [
    "#Calculate entropy before split\n",
    "entropy(169/559)"
   ]
  },
  {
   "cell_type": "code",
   "execution_count": 10,
   "metadata": {},
   "outputs": [
    {
     "data": {
      "text/plain": [
       "0.3402100266069391"
      ]
     },
     "execution_count": 10,
     "metadata": {},
     "output_type": "execute_result"
    }
   ],
   "source": [
    "#Calculate avg entropy after split\n",
    "(169/559)*entropy(153/169) + (390/559)*entropy(370/390)\n"
   ]
  },
  {
   "cell_type": "code",
   "execution_count": 11,
   "metadata": {},
   "outputs": [
    {
     "data": {
      "text/plain": [
       "0.5439050954419088"
      ]
     },
     "execution_count": 11,
     "metadata": {},
     "output_type": "execute_result"
    }
   ],
   "source": [
    "#Calculate information gain (Entropy before split - entropy after split)\n",
    "0.8841151220488479 - 0.3402100266069391"
   ]
  },
  {
   "cell_type": "code",
   "execution_count": 50,
   "metadata": {},
   "outputs": [],
   "source": [
    "#Findout the feature of the first split\n",
    "#tree.plot_tree.feature_names[1]\n"
   ]
  },
  {
   "cell_type": "markdown",
   "metadata": {},
   "source": [
    "From the above calculations, we can determine that:\n",
    "\n",
    "The entropy of the first split is: 0.884\n",
    "\n",
    "The gini of the first split is: 0.422\n",
    "\n",
    "The misclassification error of the first split is: 0.302\n",
    "\n",
    "The information gain of the first split is: 0.544\n",
    "\n",
    "The feature that was selected for the first split is X[1],which is ('mean texture' )'cell size', which was determine throughout the training phase as the most valuable.(x[1]=2.5)\n"
   ]
  },
  {
   "cell_type": "code",
   "execution_count": null,
   "metadata": {},
   "outputs": [],
   "source": []
  },
  {
   "cell_type": "code",
   "execution_count": null,
   "metadata": {},
   "outputs": [],
   "source": []
  }
 ],
 "metadata": {
  "kernelspec": {
   "display_name": "Python 3",
   "language": "python",
   "name": "python3"
  },
  "language_info": {
   "codemirror_mode": {
    "name": "ipython",
    "version": 3
   },
   "file_extension": ".py",
   "mimetype": "text/x-python",
   "name": "python",
   "nbconvert_exporter": "python",
   "pygments_lexer": "ipython3",
   "version": "3.7.4"
  }
 },
 "nbformat": 4,
 "nbformat_minor": 2
}
