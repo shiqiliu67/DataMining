{
 "cells": [
  {
   "cell_type": "markdown",
   "metadata": {},
   "source": [
    "## Problem2.2 ExtendBakery##"
   ]
  },
  {
   "cell_type": "code",
   "execution_count": 22,
   "metadata": {},
   "outputs": [
    {
     "data": {
      "text/html": [
       "<div>\n",
       "<style scoped>\n",
       "    .dataframe tbody tr th:only-of-type {\n",
       "        vertical-align: middle;\n",
       "    }\n",
       "\n",
       "    .dataframe tbody tr th {\n",
       "        vertical-align: top;\n",
       "    }\n",
       "\n",
       "    .dataframe thead th {\n",
       "        text-align: right;\n",
       "    }\n",
       "</style>\n",
       "<table border=\"1\" class=\"dataframe\">\n",
       "  <thead>\n",
       "    <tr style=\"text-align: right;\">\n",
       "      <th></th>\n",
       "      <th>Transaction Number</th>\n",
       "      <th>Chocolate Cake</th>\n",
       "      <th>Lemon Cake</th>\n",
       "      <th>Casino Cake</th>\n",
       "      <th>Opera Cake</th>\n",
       "      <th>Strawberry Cake</th>\n",
       "      <th>Truffle Cake</th>\n",
       "      <th>Chocolate Eclair</th>\n",
       "      <th>Coffee Eclair</th>\n",
       "      <th>Vanilla Eclair</th>\n",
       "      <th>...</th>\n",
       "      <th>Lemon Lemonade</th>\n",
       "      <th>Raspberry Lemonade</th>\n",
       "      <th>Orange Juice</th>\n",
       "      <th>Green Tea</th>\n",
       "      <th>Bottled Water</th>\n",
       "      <th>Hot Coffee</th>\n",
       "      <th>Chocolate Coffee</th>\n",
       "      <th>Vanilla Frappuccino</th>\n",
       "      <th>Cherry Soda</th>\n",
       "      <th>Single Espresso</th>\n",
       "    </tr>\n",
       "  </thead>\n",
       "  <tbody>\n",
       "    <tr>\n",
       "      <td>0</td>\n",
       "      <td>1</td>\n",
       "      <td>0</td>\n",
       "      <td>0</td>\n",
       "      <td>0</td>\n",
       "      <td>0</td>\n",
       "      <td>0</td>\n",
       "      <td>0</td>\n",
       "      <td>0</td>\n",
       "      <td>0</td>\n",
       "      <td>0</td>\n",
       "      <td>...</td>\n",
       "      <td>0</td>\n",
       "      <td>0</td>\n",
       "      <td>0</td>\n",
       "      <td>0</td>\n",
       "      <td>0</td>\n",
       "      <td>0</td>\n",
       "      <td>0</td>\n",
       "      <td>0</td>\n",
       "      <td>0</td>\n",
       "      <td>0</td>\n",
       "    </tr>\n",
       "    <tr>\n",
       "      <td>1</td>\n",
       "      <td>2</td>\n",
       "      <td>0</td>\n",
       "      <td>0</td>\n",
       "      <td>0</td>\n",
       "      <td>0</td>\n",
       "      <td>0</td>\n",
       "      <td>0</td>\n",
       "      <td>0</td>\n",
       "      <td>1</td>\n",
       "      <td>0</td>\n",
       "      <td>...</td>\n",
       "      <td>0</td>\n",
       "      <td>0</td>\n",
       "      <td>0</td>\n",
       "      <td>0</td>\n",
       "      <td>0</td>\n",
       "      <td>1</td>\n",
       "      <td>0</td>\n",
       "      <td>0</td>\n",
       "      <td>0</td>\n",
       "      <td>0</td>\n",
       "    </tr>\n",
       "    <tr>\n",
       "      <td>2</td>\n",
       "      <td>3</td>\n",
       "      <td>0</td>\n",
       "      <td>0</td>\n",
       "      <td>0</td>\n",
       "      <td>1</td>\n",
       "      <td>0</td>\n",
       "      <td>0</td>\n",
       "      <td>0</td>\n",
       "      <td>0</td>\n",
       "      <td>0</td>\n",
       "      <td>...</td>\n",
       "      <td>0</td>\n",
       "      <td>0</td>\n",
       "      <td>1</td>\n",
       "      <td>0</td>\n",
       "      <td>0</td>\n",
       "      <td>0</td>\n",
       "      <td>0</td>\n",
       "      <td>0</td>\n",
       "      <td>0</td>\n",
       "      <td>0</td>\n",
       "    </tr>\n",
       "    <tr>\n",
       "      <td>3</td>\n",
       "      <td>4</td>\n",
       "      <td>0</td>\n",
       "      <td>0</td>\n",
       "      <td>0</td>\n",
       "      <td>0</td>\n",
       "      <td>0</td>\n",
       "      <td>1</td>\n",
       "      <td>0</td>\n",
       "      <td>0</td>\n",
       "      <td>0</td>\n",
       "      <td>...</td>\n",
       "      <td>0</td>\n",
       "      <td>0</td>\n",
       "      <td>0</td>\n",
       "      <td>0</td>\n",
       "      <td>0</td>\n",
       "      <td>0</td>\n",
       "      <td>0</td>\n",
       "      <td>1</td>\n",
       "      <td>0</td>\n",
       "      <td>0</td>\n",
       "    </tr>\n",
       "    <tr>\n",
       "      <td>4</td>\n",
       "      <td>5</td>\n",
       "      <td>0</td>\n",
       "      <td>0</td>\n",
       "      <td>0</td>\n",
       "      <td>0</td>\n",
       "      <td>0</td>\n",
       "      <td>0</td>\n",
       "      <td>1</td>\n",
       "      <td>0</td>\n",
       "      <td>0</td>\n",
       "      <td>...</td>\n",
       "      <td>0</td>\n",
       "      <td>0</td>\n",
       "      <td>1</td>\n",
       "      <td>0</td>\n",
       "      <td>0</td>\n",
       "      <td>0</td>\n",
       "      <td>0</td>\n",
       "      <td>0</td>\n",
       "      <td>0</td>\n",
       "      <td>0</td>\n",
       "    </tr>\n",
       "  </tbody>\n",
       "</table>\n",
       "<p>5 rows × 51 columns</p>\n",
       "</div>"
      ],
      "text/plain": [
       "   Transaction Number  Chocolate Cake  Lemon Cake  Casino Cake  Opera Cake  \\\n",
       "0                   1               0           0            0           0   \n",
       "1                   2               0           0            0           0   \n",
       "2                   3               0           0            0           1   \n",
       "3                   4               0           0            0           0   \n",
       "4                   5               0           0            0           0   \n",
       "\n",
       "   Strawberry Cake  Truffle Cake  Chocolate Eclair  Coffee Eclair  \\\n",
       "0                0             0                 0              0   \n",
       "1                0             0                 0              1   \n",
       "2                0             0                 0              0   \n",
       "3                0             1                 0              0   \n",
       "4                0             0                 1              0   \n",
       "\n",
       "   Vanilla Eclair  ...  Lemon Lemonade  Raspberry Lemonade  Orange Juice  \\\n",
       "0               0  ...               0                   0             0   \n",
       "1               0  ...               0                   0             0   \n",
       "2               0  ...               0                   0             1   \n",
       "3               0  ...               0                   0             0   \n",
       "4               0  ...               0                   0             1   \n",
       "\n",
       "   Green Tea  Bottled Water  Hot Coffee  Chocolate Coffee  \\\n",
       "0          0              0           0                 0   \n",
       "1          0              0           1                 0   \n",
       "2          0              0           0                 0   \n",
       "3          0              0           0                 0   \n",
       "4          0              0           0                 0   \n",
       "\n",
       "   Vanilla Frappuccino  Cherry Soda  Single Espresso  \n",
       "0                    0            0                0  \n",
       "1                    0            0                0  \n",
       "2                    0            0                0  \n",
       "3                    1            0                0  \n",
       "4                    0            0                0  \n",
       "\n",
       "[5 rows x 51 columns]"
      ]
     },
     "execution_count": 22,
     "metadata": {},
     "output_type": "execute_result"
    }
   ],
   "source": [
    "import pandas as pd\n",
    "import numpy as nm\n",
    "import math\n",
    "\n",
    "from sklearn.metrics.pairwise import cosine_similarity\n",
    "\n",
    "file=pd.read_csv(\"75000-out2-binary.csv\")\n",
    "file.head()"
   ]
  },
  {
   "cell_type": "code",
   "execution_count": 3,
   "metadata": {},
   "outputs": [
    {
     "data": {
      "text/plain": [
       "Index(['Transaction Number', 'Chocolate Cake', 'Lemon Cake', 'Casino Cake',\n",
       "       'Opera Cake', 'Strawberry Cake', 'Truffle Cake', 'Chocolate Eclair',\n",
       "       'Coffee Eclair', 'Vanilla Eclair', 'Napoleon Cake', 'Almond Tart',\n",
       "       'Apple Pie', 'Apple Tart', 'Apricot Tart', 'Berry Tart',\n",
       "       'Blackberry Tart', 'Blueberry Tart', 'Chocolate Tart', 'Cherry Tart',\n",
       "       'Lemon Tart', 'Pecan Tart', 'Ganache Cookie', 'Gongolais Cookie',\n",
       "       'Raspberry Cookie', 'Lemon Cookie', 'Chocolate Meringue',\n",
       "       'Vanilla Meringue', 'Marzipan Cookie', 'Tuile Cookie', 'Walnut Cookie',\n",
       "       'Almond Croissant', 'Apple Croissant', 'Apricot Croissant',\n",
       "       'Cheese Croissant', 'Chocolate Croissant', 'Apricot Danish',\n",
       "       'Apple Danish', 'Almond Twist', 'Almond Bear', 'Blueberry Danish',\n",
       "       'Lemon Lemonade', 'Raspberry Lemonade', 'Orange Juice', 'Green Tea',\n",
       "       'Bottled Water', 'Hot Coffee', 'Chocolate Coffee',\n",
       "       'Vanilla Frappuccino', 'Cherry Soda', 'Single Espresso'],\n",
       "      dtype='object')"
      ]
     },
     "execution_count": 3,
     "metadata": {},
     "output_type": "execute_result"
    }
   ],
   "source": [
    "file.columns"
   ]
  },
  {
   "cell_type": "code",
   "execution_count": 4,
   "metadata": {},
   "outputs": [
    {
     "data": {
      "text/html": [
       "<div>\n",
       "<style scoped>\n",
       "    .dataframe tbody tr th:only-of-type {\n",
       "        vertical-align: middle;\n",
       "    }\n",
       "\n",
       "    .dataframe tbody tr th {\n",
       "        vertical-align: top;\n",
       "    }\n",
       "\n",
       "    .dataframe thead th {\n",
       "        text-align: right;\n",
       "    }\n",
       "</style>\n",
       "<table border=\"1\" class=\"dataframe\">\n",
       "  <thead>\n",
       "    <tr style=\"text-align: right;\">\n",
       "      <th></th>\n",
       "      <th>Chocolate Cake</th>\n",
       "      <th>Chocolate Coffee</th>\n",
       "    </tr>\n",
       "  </thead>\n",
       "  <tbody>\n",
       "    <tr>\n",
       "      <td>0</td>\n",
       "      <td>0</td>\n",
       "      <td>0</td>\n",
       "    </tr>\n",
       "    <tr>\n",
       "      <td>1</td>\n",
       "      <td>0</td>\n",
       "      <td>0</td>\n",
       "    </tr>\n",
       "    <tr>\n",
       "      <td>2</td>\n",
       "      <td>0</td>\n",
       "      <td>0</td>\n",
       "    </tr>\n",
       "    <tr>\n",
       "      <td>3</td>\n",
       "      <td>0</td>\n",
       "      <td>0</td>\n",
       "    </tr>\n",
       "    <tr>\n",
       "      <td>4</td>\n",
       "      <td>0</td>\n",
       "      <td>0</td>\n",
       "    </tr>\n",
       "  </tbody>\n",
       "</table>\n",
       "</div>"
      ],
      "text/plain": [
       "   Chocolate Cake  Chocolate Coffee\n",
       "0               0                 0\n",
       "1               0                 0\n",
       "2               0                 0\n",
       "3               0                 0\n",
       "4               0                 0"
      ]
     },
     "execution_count": 4,
     "metadata": {},
     "output_type": "execute_result"
    }
   ],
   "source": [
    "item1_name = 'Chocolate Cake'\n",
    "item2_name = 'Chocolate Coffee'\n",
    "\n",
    "selection = file[[item1_name,\n",
    "                  item2_name]]\n",
    "selection.head()"
   ]
  },
  {
   "cell_type": "code",
   "execution_count": 5,
   "metadata": {},
   "outputs": [],
   "source": [
    "item1_count = selection[item1_name] == 1\n",
    "item2_count = selection[item2_name] == 1"
   ]
  },
  {
   "cell_type": "code",
   "execution_count": 6,
   "metadata": {},
   "outputs": [
    {
     "data": {
      "text/plain": [
       "75000"
      ]
     },
     "execution_count": 6,
     "metadata": {},
     "output_type": "execute_result"
    }
   ],
   "source": [
    "item1_count.count()\n"
   ]
  },
  {
   "cell_type": "code",
   "execution_count": 23,
   "metadata": {},
   "outputs": [
    {
     "name": "stdout",
     "output_type": "stream",
     "text": [
      "                                 Chocolate Cake  Chocolate Coffee\n",
      "Chocolate Cake Chocolate Coffee                                  \n",
      "False          False                      65802             65802\n",
      "               True                        2933              2933\n",
      "True           False                       2962              2962\n",
      "               True                        3303              3303\n"
     ]
    }
   ],
   "source": [
    "f = selection.groupby([item1_count,\n",
    "                       item2_count]).count()\n",
    "print(f)"
   ]
  },
  {
   "cell_type": "code",
   "execution_count": 26,
   "metadata": {},
   "outputs": [
    {
     "name": "stdout",
     "output_type": "stream",
     "text": [
      "65802\n",
      "2933\n",
      "2962\n",
      "3303\n"
     ]
    }
   ],
   "source": [
    "\n",
    "f00 = f[item1_name][0][0]\n",
    "f01 = f[item1_name][0][1]\n",
    "f10 = f[item2_name][1][0]\n",
    "f11 = f[item2_name][1][1]\n",
    "\n",
    "print(f00)\n",
    "print(f01)\n",
    "print(f10)\n",
    "print(f11)"
   ]
  },
  {
   "cell_type": "code",
   "execution_count": 27,
   "metadata": {},
   "outputs": [
    {
     "name": "stdout",
     "output_type": "stream",
     "text": [
      "6265\n",
      "6236\n",
      "68735\n",
      "68764\n"
     ]
    }
   ],
   "source": [
    "f1p = f11 + f10\n",
    "fp1 = f11 + f01\n",
    "f0p = f01 + f00\n",
    "fp0 = f10 + f00\n",
    "\n",
    "print(f1p)\n",
    "print(fp1)\n",
    "print(f0p)\n",
    "print(fp0)"
   ]
  },
  {
   "cell_type": "markdown",
   "metadata": {},
   "source": [
    "### PHI-Coeefficient"
   ]
  },
  {
   "cell_type": "code",
   "execution_count": 10,
   "metadata": {},
   "outputs": [
    {
     "name": "stdout",
     "output_type": "stream",
     "text": [
      "217344006\n"
     ]
    }
   ],
   "source": [
    "s1 = n11*n00\n",
    "print(s1)"
   ]
  },
  {
   "cell_type": "code",
   "execution_count": 11,
   "metadata": {},
   "outputs": [
    {
     "name": "stdout",
     "output_type": "stream",
     "text": [
      "8687546\n"
     ]
    }
   ],
   "source": [
    "s2 = n10*n01\n",
    "print(s2)"
   ]
  },
  {
   "cell_type": "code",
   "execution_count": 12,
   "metadata": {},
   "outputs": [
    {
     "data": {
      "text/plain": [
       "0.4855664925278768"
      ]
     },
     "execution_count": 12,
     "metadata": {},
     "output_type": "execute_result"
    }
   ],
   "source": [
    "correlation_coefficient=(s1-s2)/(math.sqrt(n1p*np1*n0p*np0))\n",
    "correlation_coefficient"
   ]
  },
  {
   "cell_type": "code",
   "execution_count": 13,
   "metadata": {},
   "outputs": [
    {
     "data": {
      "text/html": [
       "<div>\n",
       "<style scoped>\n",
       "    .dataframe tbody tr th:only-of-type {\n",
       "        vertical-align: middle;\n",
       "    }\n",
       "\n",
       "    .dataframe tbody tr th {\n",
       "        vertical-align: top;\n",
       "    }\n",
       "\n",
       "    .dataframe thead th {\n",
       "        text-align: right;\n",
       "    }\n",
       "</style>\n",
       "<table border=\"1\" class=\"dataframe\">\n",
       "  <thead>\n",
       "    <tr style=\"text-align: right;\">\n",
       "      <th>Chocolate Cake</th>\n",
       "      <th>0</th>\n",
       "      <th>1</th>\n",
       "    </tr>\n",
       "    <tr>\n",
       "      <th>Chocolate Coffee</th>\n",
       "      <th></th>\n",
       "      <th></th>\n",
       "    </tr>\n",
       "  </thead>\n",
       "  <tbody>\n",
       "    <tr>\n",
       "      <td>0</td>\n",
       "      <td>65802</td>\n",
       "      <td>2962</td>\n",
       "    </tr>\n",
       "    <tr>\n",
       "      <td>1</td>\n",
       "      <td>2933</td>\n",
       "      <td>3303</td>\n",
       "    </tr>\n",
       "  </tbody>\n",
       "</table>\n",
       "</div>"
      ],
      "text/plain": [
       "Chocolate Cake        0     1\n",
       "Chocolate Coffee             \n",
       "0                 65802  2962\n",
       "1                  2933  3303"
      ]
     },
     "execution_count": 13,
     "metadata": {},
     "output_type": "execute_result"
    }
   ],
   "source": [
    "pd.crosstab(file['Chocolate Coffee'],file['Chocolate Cake'])\n"
   ]
  },
  {
   "cell_type": "code",
   "execution_count": 28,
   "metadata": {},
   "outputs": [
    {
     "name": "stdout",
     "output_type": "stream",
     "text": [
      "75000\n",
      "75000\n"
     ]
    }
   ],
   "source": [
    "n = f1p + f0p\n",
    "print(n)\n",
    "\n",
    "n = fp1 + fp0\n",
    "print(n)"
   ]
  },
  {
   "cell_type": "code",
   "execution_count": 29,
   "metadata": {},
   "outputs": [
    {
     "name": "stdout",
     "output_type": "stream",
     "text": [
      "0.04404\n",
      "0.5272146847565842\n"
     ]
    }
   ],
   "source": [
    "s = f11 / n\n",
    "print(s)\n",
    "\n",
    "c = f11 / f1p\n",
    "print(c)"
   ]
  },
  {
   "cell_type": "code",
   "execution_count": 14,
   "metadata": {},
   "outputs": [],
   "source": [
    "\n",
    "item_1='Chocolate Coffee'\n",
    "item_2='Chocolate Cake'"
   ]
  },
  {
   "cell_type": "code",
   "execution_count": 15,
   "metadata": {},
   "outputs": [],
   "source": [
    "item_1_c=selection[item_1]==1\n",
    "item_2_c=selection[item_2]==1"
   ]
  },
  {
   "cell_type": "code",
   "execution_count": 16,
   "metadata": {},
   "outputs": [
    {
     "name": "stdout",
     "output_type": "stream",
     "text": [
      "                                 Chocolate Cake  Chocolate Coffee\n",
      "Chocolate Coffee Chocolate Cake                                  \n",
      "False            False                    65802             65802\n",
      "                 True                      2962              2962\n",
      "True             False                     2933              2933\n",
      "                 True                      3303              3303\n"
     ]
    }
   ],
   "source": [
    "print(selection.groupby([item_1_c,item_2_c]).count())"
   ]
  },
  {
   "cell_type": "code",
   "execution_count": 17,
   "metadata": {},
   "outputs": [
    {
     "name": "stdout",
     "output_type": "stream",
     "text": [
      "6236\n",
      "6265\n",
      "68764\n",
      "68735\n"
     ]
    }
   ],
   "source": [
    "f=selection.groupby([item_1_c,item_2_c]).count()\n",
    "\n",
    "f00=f[item_1][0][0]\n",
    "f01=f[item_1][0][1]\n",
    "f10=f[item_2][1][0]\n",
    "f11=f[item_2][1][1]\n",
    "\n",
    "f1p=f11+f10\n",
    "fp1=f11+f01\n",
    "f0p=f01+f00\n",
    "fp0=f10+f00\n",
    "\n",
    "print(f1p)\n",
    "print(fp1)\n",
    "print(f0p)\n",
    "print(fp0)"
   ]
  },
  {
   "cell_type": "code",
   "execution_count": 18,
   "metadata": {},
   "outputs": [
    {
     "data": {
      "text/plain": [
       "0.4855664925278768"
      ]
     },
     "execution_count": 18,
     "metadata": {},
     "output_type": "execute_result"
    }
   ],
   "source": [
    "cake_coefficeint=((f11*f00)-(f01*f10))/math.sqrt(f1p*fp1*f0p*fp0)\n",
    "cake_coefficeint"
   ]
  },
  {
   "cell_type": "code",
   "execution_count": 19,
   "metadata": {},
   "outputs": [
    {
     "data": {
      "text/plain": [
       "0.5272146847565842"
      ]
     },
     "execution_count": 19,
     "metadata": {},
     "output_type": "execute_result"
    }
   ],
   "source": [
    "confidence_Coffee_to_Cake=f11/(f11+f01)\n",
    "confidence_Coffee_to_Cake"
   ]
  },
  {
   "cell_type": "code",
   "execution_count": 30,
   "metadata": {},
   "outputs": [
    {
     "name": "stdout",
     "output_type": "stream",
     "text": [
      "0.04404\n",
      "0.5272146847565842\n"
     ]
    }
   ],
   "source": [
    "s = f11 / n\n",
    "print(s)\n",
    "\n",
    "c = f11 / f1p\n",
    "print(c)"
   ]
  },
  {
   "cell_type": "code",
   "execution_count": 32,
   "metadata": {},
   "outputs": [
    {
     "name": "stdout",
     "output_type": "stream",
     "text": [
      "6.340779563300805\n",
      "6.340779563300805\n"
     ]
    }
   ],
   "source": [
    "\n",
    "lift = c / (fp1 / n)\n",
    "print(lift)\n",
    "\n",
    "I = n*f11 / (f1p * fp1)\n",
    "print(I)\n"
   ]
  },
  {
   "cell_type": "code",
   "execution_count": 33,
   "metadata": {},
   "outputs": [
    {
     "name": "stdout",
     "output_type": "stream",
     "text": [
      "0.5284391468918322\n",
      "0.5284391468918322\n"
     ]
    }
   ],
   "source": [
    "\n",
    "s_a = f1p / n\n",
    "s_b = fp1 / n\n",
    "s_ab = f11 / n\n",
    "\n",
    "c_ab = s_ab / s_a\n",
    "c_ba = s_ab / s_b\n",
    "\n",
    "IS = s_ab / (math.sqrt(s_a * s_b))\n",
    "print(IS)\n",
    "\n",
    "IS = math.sqrt(c_ab * c_ba)\n",
    "print(IS)"
   ]
  },
  {
   "cell_type": "code",
   "execution_count": 34,
   "metadata": {},
   "outputs": [
    {
     "name": "stdout",
     "output_type": "stream",
     "text": [
      "0.5284391468918322\n",
      "0.5284391468918319\n"
     ]
    }
   ],
   "source": [
    "x = selection[item1_name]\n",
    "y = selection[item2_name]\n",
    "\n",
    "cos_xy = np.dot(x,y) / (np.linalg.norm(x) * np.linalg.norm(y))\n",
    "print(cos_xy)\n",
    "\n",
    "cos_xy = cosine_similarity(selection[item1_name].values.reshape(1, -1),\n",
    "                           selection[item2_name].values.reshape(1, -1)).ravel()[0]\n",
    "print(cos_xy)"
   ]
  },
  {
   "cell_type": "code",
   "execution_count": 20,
   "metadata": {},
   "outputs": [
    {
     "name": "stdout",
     "output_type": "stream",
     "text": [
      "(0.48556649252787687, 0.0)\n",
      "[[1.         0.48556649]\n",
      " [0.48556649 1.        ]]\n"
     ]
    }
   ],
   "source": [
    "import numpy as np\n",
    "import scipy\n",
    "\n",
    "from scipy.stats.stats import pearsonr\n",
    "\n",
    "Rdata=pd.read_csv('75000-out2-binary.csv')\n",
    "#Rdata.columns\n",
    "\n",
    "df=pd.DataFrame(data=Rdata,columns=['Chocolate Coffee','Chocolate Cake'])\n",
    "df.head()\n",
    "\n",
    "\n",
    "Chocolate_Coffee=np.array(df['Chocolate Coffee'])\n",
    "Chocolate_Cake=np.array(df['Chocolate Cake'])\n",
    "\n",
    "print (pearsonr(Chocolate_Coffee,Chocolate_Cake))\n",
    "\n",
    "print (np.corrcoef(Chocolate_Coffee,Chocolate_Cake))\n",
    "#print(df)"
   ]
  },
  {
   "cell_type": "markdown",
   "metadata": {},
   "source": [
    "### Answer  ###\n",
    "These two items are asymmetric\n",
    "\n",
    "{'Chocolate Coffee'} -> {'Chocolate Cake'} and {'Chocolate Cake'} -> {'Chocolate Coffee'} have the same Phi-Coefficient according to selection group"
   ]
  },
  {
   "cell_type": "code",
   "execution_count": null,
   "metadata": {},
   "outputs": [],
   "source": []
  }
 ],
 "metadata": {
  "kernelspec": {
   "display_name": "Python 3",
   "language": "python",
   "name": "python3"
  },
  "language_info": {
   "codemirror_mode": {
    "name": "ipython",
    "version": 3
   },
   "file_extension": ".py",
   "mimetype": "text/x-python",
   "name": "python",
   "nbconvert_exporter": "python",
   "pygments_lexer": "ipython3",
   "version": "3.7.4"
  }
 },
 "nbformat": 4,
 "nbformat_minor": 2
}
