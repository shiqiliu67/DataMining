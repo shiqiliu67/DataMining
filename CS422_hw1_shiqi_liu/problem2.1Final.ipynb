{
 "cells": [
  {
   "cell_type": "code",
   "execution_count": 1,
   "metadata": {},
   "outputs": [],
   "source": [
    "import seaborn as sns\n",
    "import matplotlib.pyplot as plt\n",
    "import pandas as pd\n",
    "import numpy as np\n",
    "%matplotlib inline\n",
    "\n",
    "titanic = sns.load_dataset('titanic')\n",
    "df=pd.DataFrame(titanic)\n"
   ]
  },
  {
   "cell_type": "code",
   "execution_count": 2,
   "metadata": {},
   "outputs": [
    {
     "data": {
      "text/plain": [
       "(array([ 5.,  3.,  0.,  3.,  3.,  2.,  0.,  3., 16., 28., 27., 14., 24.,\n",
       "        24., 22., 25., 16., 10., 17., 16., 12., 10.,  7.,  8.,  9.,  9.,\n",
       "         6.,  8.,  0.,  7.,  3.,  4.,  5.,  2.,  2.,  4.,  0.,  2.,  3.,\n",
       "         1.]),\n",
       " array([ 1.   ,  2.825,  4.65 ,  6.475,  8.3  , 10.125, 11.95 , 13.775,\n",
       "        15.6  , 17.425, 19.25 , 21.075, 22.9  , 24.725, 26.55 , 28.375,\n",
       "        30.2  , 32.025, 33.85 , 35.675, 37.5  , 39.325, 41.15 , 42.975,\n",
       "        44.8  , 46.625, 48.45 , 50.275, 52.1  , 53.925, 55.75 , 57.575,\n",
       "        59.4  , 61.225, 63.05 , 64.875, 66.7  , 68.525, 70.35 , 72.175,\n",
       "        74.   ]),\n",
       " <a list of 1 Patch objects>)"
      ]
     },
     "execution_count": 2,
     "metadata": {},
     "output_type": "execute_result"
    },
    {
     "data": {
      "image/png": "[encoded data removed]",
      "text/plain": [
       "<Figure size 432x288 with 1 Axes>"
      ]
     },
     "metadata": {
      "needs_background": "light"
     },
     "output_type": "display_data"
    }
   ],
   "source": [
    "df.dropna(subset=['age'],inplace=True)\n",
    "test = df[(df.sex=='male')&(df.survived==True)]\n",
    "test1 = df[(df.sex=='male')&(df.survived==False)]\n",
    "kwargs = dict(histtype='stepfilled', alpha=0.3, bins=40)\n",
    "\n",
    "\n",
    "plt.hist(test.age,**kwargs)\n",
    "plt.hist(test1.age,**kwargs)"
   ]
  },
  {
   "cell_type": "code",
   "execution_count": 3,
   "metadata": {},
   "outputs": [
    {
     "data": {
      "text/plain": [
       "(array([5., 0., 1., 0., 1., 5., 1., 0., 1., 1., 2., 5., 0., 5., 2., 1., 5.,\n",
       "        2., 3., 2., 3., 3., 0., 0., 0., 1., 3., 1., 2., 1., 1., 3., 1., 1.,\n",
       "        1., 0., 0., 0., 0., 1.]),\n",
       " array([ 2.   ,  3.375,  4.75 ,  6.125,  7.5  ,  8.875, 10.25 , 11.625,\n",
       "        13.   , 14.375, 15.75 , 17.125, 18.5  , 19.875, 21.25 , 22.625,\n",
       "        24.   , 25.375, 26.75 , 28.125, 29.5  , 30.875, 32.25 , 33.625,\n",
       "        35.   , 36.375, 37.75 , 39.125, 40.5  , 41.875, 43.25 , 44.625,\n",
       "        46.   , 47.375, 48.75 , 50.125, 51.5  , 52.875, 54.25 , 55.625,\n",
       "        57.   ]),\n",
       " <a list of 1 Patch objects>)"
      ]
     },
     "execution_count": 3,
     "metadata": {},
     "output_type": "execute_result"
    },
    {
     "data": {
      "image/png": "[encoded data removed]",
      "text/plain": [
       "<Figure size 432x288 with 1 Axes>"
      ]
     },
     "metadata": {
      "needs_background": "light"
     },
     "output_type": "display_data"
    }
   ],
   "source": [
    "df.dropna(subset=['age'],inplace=True)\n",
    "test = df[(df.sex=='female')&(df.survived==True)]\n",
    "test1 = df[(df.sex=='female')&(df.survived==False)]\n",
    "kwargs = dict(histtype='stepfilled', alpha=0.3, bins=40)\n",
    "\n",
    "\n",
    "plt.hist(test.age,**kwargs)\n",
    "plt.hist(test1.age,**kwargs)"
   ]
  },
  {
   "cell_type": "markdown",
   "metadata": {},
   "source": [
    "what is the basic relationship between these variables using just visual inspection? Do the results\n",
    "make sense? Why?\n",
    "From the graphic, we know that red color represents 'died' status in 'survived' column.\n",
    "And blue color represents 'survived' status in 'survived' column.\n",
    "According to these two graphics, we can clearly see that the number of female survived\n",
    "much more lager than the number of male survived. \n",
    "in the fist graph, the only two parts show blue higher than red. That implies the children which between 0-18 and the olds which older than 70 surived numbers larger than died numbers.\n",
    "\n",
    "therefore, i print the table to show data of died/survived in different gender.\n"
   ]
  },
  {
   "cell_type": "code",
   "execution_count": 9,
   "metadata": {},
   "outputs": [
    {
     "name": "stdout",
     "output_type": "stream",
     "text": [
      "survived    0    1\n",
      "sex               \n",
      "female     64  197\n",
      "male      360   93\n"
     ]
    }
   ],
   "source": [
    "print(pd.crosstab(df[\"sex\"],df.survived))"
   ]
  },
  {
   "cell_type": "code",
   "execution_count": 8,
   "metadata": {},
   "outputs": [
    {
     "name": "stdout",
     "output_type": "stream",
     "text": [
      "survived  0  1\n",
      "age           \n",
      "0.42      0  1\n",
      "0.67      0  1\n",
      "0.75      0  2\n",
      "0.83      0  2\n",
      "0.92      0  1\n",
      "...      .. ..\n",
      "70.00     2  0\n",
      "70.50     1  0\n",
      "71.00     2  0\n",
      "74.00     1  0\n",
      "80.00     0  1\n",
      "\n",
      "[88 rows x 2 columns]\n"
     ]
    }
   ],
   "source": [
    "print(pd.crosstab(df[\"age\"],df.survived))\n"
   ]
  },
  {
   "cell_type": "markdown",
   "metadata": {},
   "source": [
    "As a result, we have know that the most of female were survived, but most of adult male were died. and the most of children and olders were survived\n",
    "It shows male made female first to go and let their have a chance to live.\n",
    "\n",
    "therefore we got a relationsihp : most of adult male were died, most of female were lived, many of boys and the olds were lived\n",
    "\n",
    "The result make sense.\n",
    "because in that time, there was a rule called 'women and children first' in people mind.\n",
    "honor and shame ruled society in 1912. Gentlemen were expected to be honorable and feared being shamed. \n",
    "Men aboard the Titanic, especially those among the upper class, had to weigh their own survival with doing what society would deem the right thing.  \n",
    "Famously several of the wealthiest men, John Jacob Astor, George Widener, and Isodor Strauss, refused to board a lifeboat on grounds of honor, even after it was clear that the Titanic would sink.\n",
    "therefore, the data make sense."
   ]
  },
  {
   "cell_type": "code",
   "execution_count": null,
   "metadata": {},
   "outputs": [],
   "source": []
  }
 ],
 "metadata": {
  "kernelspec": {
   "display_name": "Python 3",
   "language": "python",
   "name": "python3"
  },
  "language_info": {
   "codemirror_mode": {
    "name": "ipython",
    "version": 3
   },
   "file_extension": ".py",
   "mimetype": "text/x-python",
   "name": "python",
   "nbconvert_exporter": "python",
   "pygments_lexer": "ipython3",
   "version": "3.7.4"
  }
 },
 "nbformat": 4,
 "nbformat_minor": 2
}
