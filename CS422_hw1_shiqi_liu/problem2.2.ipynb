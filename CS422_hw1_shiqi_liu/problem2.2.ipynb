{
 "cells": [
  {
   "cell_type": "code",
   "execution_count": 22,
   "metadata": {},
   "outputs": [],
   "source": [
    "import pandas as pd\n",
    "import numpy as np \n",
    "import scipy\n",
    "\n",
    "from sklearn.impute import SimpleImputer \n",
    "\n",
    "c_names = ['mpg', 'cylinders', 'displacement', 'horsepower', 'weight','acceleration', 'model_year', 'origin', 'car_name']\n",
    "\n",
    "auto = pd.read_csv(filepath_or_buffer='https://archive.ics.uci.edu/ml/machine-learning-databases/auto-mpg/auto-mpg.data', delim_whitespace=True, names=c_names)\n",
    "auto.replace('?', np.nan, inplace = True)\n",
    "auto.horsepower = auto.horsepower.astype(float)\n"
   ]
  },
  {
   "cell_type": "code",
   "execution_count": 23,
   "metadata": {},
   "outputs": [],
   "source": [
    "imp_mean = SimpleImputer(missing_values = np.nan, strategy = 'mean')\n",
    "mean = pd.DataFrame(imp_mean.fit_transform(auto['horsepower'].values.reshape(-1,1)))\n"
   ]
  },
  {
   "cell_type": "code",
   "execution_count": 24,
   "metadata": {},
   "outputs": [],
   "source": [
    "imp_med = SimpleImputer(missing_values = np.nan, strategy = 'median')\n",
    "med = pd.DataFrame(imp_med.fit_transform(auto['horsepower'].values.reshape(-1,1)))\n"
   ]
  },
  {
   "cell_type": "code",
   "execution_count": 25,
   "metadata": {},
   "outputs": [],
   "source": [
    "imp_mod = SimpleImputer(missing_values = np.nan, strategy = 'most_frequent')\n",
    "mod = pd.DataFrame(imp_mod.fit_transform(auto['horsepower'].values.reshape(-1,1)))\n"
   ]
  },
  {
   "cell_type": "code",
   "execution_count": 26,
   "metadata": {},
   "outputs": [
    {
     "name": "stdout",
     "output_type": "stream",
     "text": [
      "mean:  0    1459.177916\n",
      "dtype: float64\n"
     ]
    }
   ],
   "source": [
    "print('mean: ' ,mean.var())"
   ]
  },
  {
   "cell_type": "code",
   "execution_count": 27,
   "metadata": {},
   "outputs": [
    {
     "name": "stdout",
     "output_type": "stream",
     "text": [
      "med:  0    1460.969052\n",
      "dtype: float64\n"
     ]
    }
   ],
   "source": [
    "print('med: ' ,med.var())"
   ]
  },
  {
   "cell_type": "code",
   "execution_count": 28,
   "metadata": {},
   "outputs": [
    {
     "name": "stdout",
     "output_type": "stream",
     "text": [
      "mod:  0    1490.036125\n",
      "dtype: float64\n"
     ]
    }
   ],
   "source": [
    "print('mod: ' ,mod.var())"
   ]
  },
  {
   "cell_type": "code",
   "execution_count": 30,
   "metadata": {},
   "outputs": [
    {
     "name": "stdout",
     "output_type": "stream",
     "text": [
      "orginal:  1481.5693929745862\n"
     ]
    }
   ],
   "source": [
    "print('orginal: ',auto.horsepower.var())"
   ]
  },
  {
   "cell_type": "markdown",
   "metadata": {},
   "source": [
    "According to the data, we observe that mean's variance is the lowest. \n"
   ]
  },
  {
   "cell_type": "markdown",
   "metadata": {},
   "source": [
    "Because mean calculate the average of the data, and one of mean's important properties is that it minimizes error in the prediction of any one value in your data set. That is, it is the value that produces the lowest amount of error from all other values in the data set. Variance measures how far the set of values are spread out from their average value. When we replace the missing values with the mean/ average value itself the whole set of data is centralized and moved towards the mean. So the variance is lesser compared to replacing with median or mode."
   ]
  },
  {
   "cell_type": "markdown",
   "metadata": {},
   "source": [
    "No. Using the mean is the optimum way to minimize variance while handling missing values using imputation"
   ]
  },
  {
   "cell_type": "code",
   "execution_count": null,
   "metadata": {},
   "outputs": [],
   "source": []
  }
 ],
 "metadata": {
  "kernelspec": {
   "display_name": "Python 3",
   "language": "python",
   "name": "python3"
  },
  "language_info": {
   "codemirror_mode": {
    "name": "ipython",
    "version": 3
   },
   "file_extension": ".py",
   "mimetype": "text/x-python",
   "name": "python",
   "nbconvert_exporter": "python",
   "pygments_lexer": "ipython3",
   "version": "3.7.4"
  }
 },
 "nbformat": 4,
 "nbformat_minor": 2
}
